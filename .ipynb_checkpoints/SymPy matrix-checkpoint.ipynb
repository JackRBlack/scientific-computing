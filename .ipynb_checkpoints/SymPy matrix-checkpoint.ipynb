{
 "cells": [
  {
   "cell_type": "code",
   "execution_count": 1,
   "metadata": {},
   "outputs": [],
   "source": [
    "from sympy import *\n",
    "init_printing(use_unicode = True)"
   ]
  },
  {
   "cell_type": "code",
   "execution_count": 40,
   "metadata": {},
   "outputs": [],
   "source": [
    "x = symbols('x')\n",
    "y = symbols('y')"
   ]
  },
  {
   "cell_type": "code",
   "execution_count": 27,
   "metadata": {},
   "outputs": [],
   "source": [
    "M = eye(27)"
   ]
  },
  {
   "cell_type": "code",
   "execution_count": 101,
   "metadata": {},
   "outputs": [],
   "source": [
    "def partial_trace(M, n):\n",
    "    D = len(M.row(0)) # get the dimension of matrix M\n",
    "    d = int(D / n) # calculate the dimension of partial-traced matrix\n",
    "    M_ptr = zeros(d) # create a blank partial trace matrix\n",
    "    for i in range(d):\n",
    "        for j in range(d):\n",
    "            for k in range(n):\n",
    "                M_ptr[i, j] += M[n*i + k, n*j + k]\n",
    "    return M_ptr"
   ]
  },
  {
   "cell_type": "code",
   "execution_count": 109,
   "metadata": {},
   "outputs": [],
   "source": [
    "def partial_transpose(M, n):\n",
    "    D = len(M.row(0)) # get the dimension of matrix M\n",
    "    d = int(D / n) # calculate the dimension of blocks\n",
    "    M_pt = M.copy()\n",
    "    for i in range(d): # i & j are indices for block position\n",
    "        for j in range(d):\n",
    "            for p in range(n): # p & q are indices for elements in one block\n",
    "                for q in range(n): \n",
    "                    M_pt[n*i + p, n*j + q] = M[n*i + q, n*j + p]\n",
    "    return M_pt"
   ]
  },
  {
   "cell_type": "code",
   "execution_count": 113,
   "metadata": {
    "scrolled": false
   },
   "outputs": [
    {
     "data": {
      "image/png": "[encoded data removed]",
      "text/latex": [
       "$$\\left[\\begin{array}{cccccccccccccccc}p & 0 & 0 & 0 & 0 & 0 & 0 & 0 & 0 & 0 & 0 & 0 & 0 & 0 & 0 & 0\\\\0 & p & 0 & 0 & 0 & 0 & 0 & 0 & 0 & 0 & 0 & 0 & 0 & 0 & 0 & 0\\\\0 & 0 & p & 0 & 0 & 0 & 0 & 0 & 0 & 0 & 0 & 0 & 0 & 0 & 0 & 0\\\\0 & 0 & 0 & - 3 p + 4 & 0 & - 4 p + 4 & - 4 p + 4 & 0 & 0 & - 4 p + 4 & 0 & 0 & 0 & 0 & 0 & 0\\\\0 & 0 & 0 & 0 & p & 0 & 0 & 0 & 0 & 0 & 0 & 0 & 0 & 0 & 0 & 0\\\\0 & 0 & 0 & - 4 p + 4 & 0 & - 3 p + 4 & - 4 p + 4 & 0 & 0 & - 4 p + 4 & 0 & 0 & 0 & 0 & 0 & 0\\\\0 & 0 & 0 & - 4 p + 4 & 0 & - 4 p + 4 & - 3 p + 4 & 0 & 0 & - 4 p + 4 & 0 & 0 & 0 & 0 & 0 & 0\\\\0 & 0 & 0 & 0 & 0 & 0 & 0 & p & 0 & 0 & 0 & 0 & 0 & 0 & 0 & 0\\\\0 & 0 & 0 & 0 & 0 & 0 & 0 & 0 & p & 0 & 0 & 0 & 0 & 0 & 0 & 0\\\\0 & 0 & 0 & - 4 p + 4 & 0 & - 4 p + 4 & - 4 p + 4 & 0 & 0 & - 3 p + 4 & 0 & 0 & 0 & 0 & 0 & 0\\\\0 & 0 & 0 & 0 & 0 & 0 & 0 & 0 & 0 & 0 & p & 0 & 0 & 0 & 0 & 0\\\\0 & 0 & 0 & 0 & 0 & 0 & 0 & 0 & 0 & 0 & 0 & p & 0 & 0 & 0 & 0\\\\0 & 0 & 0 & 0 & 0 & 0 & 0 & 0 & 0 & 0 & 0 & 0 & p & 0 & 0 & 0\\\\0 & 0 & 0 & 0 & 0 & 0 & 0 & 0 & 0 & 0 & 0 & 0 & 0 & p & 0 & 0\\\\0 & 0 & 0 & 0 & 0 & 0 & 0 & 0 & 0 & 0 & 0 & 0 & 0 & 0 & p & 0\\\\0 & 0 & 0 & 0 & 0 & 0 & 0 & 0 & 0 & 0 & 0 & 0 & 0 & 0 & 0 & p\\end{array}\\right]$$"
      ],
      "text/plain": [
       "⎡p  0  0     0      0     0         0      0  0     0      0  0  0  0  0  0⎤\n",
       "⎢                                                                          ⎥\n",
       "⎢0  p  0     0      0     0         0      0  0     0      0  0  0  0  0  0⎥\n",
       "⎢                                                                          ⎥\n",
       "⎢0  0  p     0      0     0         0      0  0     0      0  0  0  0  0  0⎥\n",
       "⎢                                                                          ⎥\n",
       "⎢0  0  0  -3⋅p + 4  0  -4⋅p + 4  -4⋅p + 4  0  0  -4⋅p + 4  0  0  0  0  0  0⎥\n",
       "⎢                                                                          ⎥\n",
       "⎢0  0  0     0      p     0         0      0  0     0      0  0  0  0  0  0⎥\n",
       "⎢                                                                          ⎥\n",
       "⎢0  0  0  -4⋅p + 4  0  -3⋅p + 4  -4⋅p + 4  0  0  -4⋅p + 4  0  0  0  0  0  0⎥\n",
       "⎢                                                                          ⎥\n",
       "⎢0  0  0  -4⋅p + 4  0  -4⋅p + 4  -3⋅p + 4  0  0  -4⋅p + 4  0  0  0  0  0  0⎥\n",
       "⎢                                                                          ⎥\n",
       "⎢0  0  0     0      0     0         0      p  0     0      0  0  0  0  0  0⎥\n",
       "⎢                                                                          ⎥\n",
       "⎢0  0  0     0      0     0         0      0  p     0      0  0  0  0  0  0⎥\n",
       "⎢                                                                          ⎥\n",
       "⎢0  0  0  -4⋅p + 4  0  -4⋅p + 4  -4⋅p + 4  0  0  -3⋅p + 4  0  0  0  0  0  0⎥\n",
       "⎢                                                                          ⎥\n",
       "⎢0  0  0     0      0     0         0      0  0     0      p  0  0  0  0  0⎥\n",
       "⎢                                                                          ⎥\n",
       "⎢0  0  0     0      0     0         0      0  0     0      0  p  0  0  0  0⎥\n",
       "⎢                                                                          ⎥\n",
       "⎢0  0  0     0      0     0         0      0  0     0      0  0  p  0  0  0⎥\n",
       "⎢                                                                          ⎥\n",
       "⎢0  0  0     0      0     0         0      0  0     0      0  0  0  p  0  0⎥\n",
       "⎢                                                                          ⎥\n",
       "⎢0  0  0     0      0     0         0      0  0     0      0  0  0  0  p  0⎥\n",
       "⎢                                                                          ⎥\n",
       "⎣0  0  0     0      0     0         0      0  0     0      0  0  0  0  0  p⎦"
      ]
     },
     "execution_count": 113,
     "metadata": {},
     "output_type": "execute_result"
    }
   ],
   "source": [
    "M"
   ]
  },
  {
   "cell_type": "code",
   "execution_count": 114,
   "metadata": {},
   "outputs": [
    {
     "data": {
      "image/png": "[encoded data removed]",
      "text/latex": [
       "$$\\left[\\begin{array}{cccccccccccccccc}p & 0 & 0 & 0 & 0 & 0 & 0 & 0 & 0 & 0 & 0 & 0 & 0 & 0 & 0 & 0\\\\0 & p & 0 & 0 & 0 & 0 & 0 & 0 & 0 & 0 & 0 & 0 & 0 & 0 & 0 & 0\\\\0 & 0 & p & 0 & 0 & 0 & 0 & - 4 p + 4 & 0 & 0 & 0 & 0 & 0 & 0 & 0 & 0\\\\0 & 0 & 0 & - 3 p + 4 & 0 & - 4 p + 4 & 0 & 0 & 0 & - 4 p + 4 & 0 & 0 & 0 & 0 & 0 & 0\\\\0 & 0 & 0 & 0 & p & 0 & 0 & - 4 p + 4 & 0 & 0 & 0 & 0 & 0 & 0 & 0 & 0\\\\0 & 0 & 0 & - 4 p + 4 & 0 & - 3 p + 4 & 0 & 0 & 0 & - 4 p + 4 & 0 & 0 & 0 & 0 & 0 & 0\\\\0 & 0 & 0 & 0 & 0 & 0 & - 3 p + 4 & 0 & 0 & 0 & 0 & 0 & 0 & 0 & 0 & 0\\\\0 & 0 & - 4 p + 4 & 0 & - 4 p + 4 & 0 & 0 & p & - 4 p + 4 & 0 & 0 & 0 & 0 & 0 & 0 & 0\\\\0 & 0 & 0 & 0 & 0 & 0 & 0 & - 4 p + 4 & p & 0 & 0 & 0 & 0 & 0 & 0 & 0\\\\0 & 0 & 0 & - 4 p + 4 & 0 & - 4 p + 4 & 0 & 0 & 0 & - 3 p + 4 & 0 & 0 & 0 & 0 & 0 & 0\\\\0 & 0 & 0 & 0 & 0 & 0 & 0 & 0 & 0 & 0 & p & 0 & 0 & 0 & 0 & 0\\\\0 & 0 & 0 & 0 & 0 & 0 & 0 & 0 & 0 & 0 & 0 & p & 0 & 0 & 0 & 0\\\\0 & 0 & 0 & 0 & 0 & 0 & 0 & 0 & 0 & 0 & 0 & 0 & p & 0 & 0 & 0\\\\0 & 0 & 0 & 0 & 0 & 0 & 0 & 0 & 0 & 0 & 0 & 0 & 0 & p & 0 & 0\\\\0 & 0 & 0 & 0 & 0 & 0 & 0 & 0 & 0 & 0 & 0 & 0 & 0 & 0 & p & 0\\\\0 & 0 & 0 & 0 & 0 & 0 & 0 & 0 & 0 & 0 & 0 & 0 & 0 & 0 & 0 & p\\end{array}\\right]$$"
      ],
      "text/plain": [
       "⎡p  0     0         0         0         0         0         0         0       \n",
       "⎢                                                                             \n",
       "⎢0  p     0         0         0         0         0         0         0       \n",
       "⎢                                                                             \n",
       "⎢0  0     p         0         0         0         0      -4⋅p + 4     0       \n",
       "⎢                                                                             \n",
       "⎢0  0     0      -3⋅p + 4     0      -4⋅p + 4     0         0         0      -\n",
       "⎢                                                                             \n",
       "⎢0  0     0         0         p         0         0      -4⋅p + 4     0       \n",
       "⎢                                                                             \n",
       "⎢0  0     0      -4⋅p + 4     0      -3⋅p + 4     0         0         0      -\n",
       "⎢                                                                             \n",
       "⎢0  0     0         0         0         0      -3⋅p + 4     0         0       \n",
       "⎢                                                                             \n",
       "⎢0  0  -4⋅p + 4     0      -4⋅p + 4     0         0         p      -4⋅p + 4   \n",
       "⎢                                                                             \n",
       "⎢0  0     0         0         0         0         0      -4⋅p + 4     p       \n",
       "⎢                                                                             \n",
       "⎢0  0     0      -4⋅p + 4     0      -4⋅p + 4     0         0         0      -\n",
       "⎢                                                                             \n",
       "⎢0  0     0         0         0         0         0         0         0       \n",
       "⎢                                                                             \n",
       "⎢0  0     0         0         0         0         0         0         0       \n",
       "⎢                                                                             \n",
       "⎢0  0     0         0         0         0         0         0         0       \n",
       "⎢                                                                             \n",
       "⎢0  0     0         0         0         0         0         0         0       \n",
       "⎢                                                                             \n",
       "⎢0  0     0         0         0         0         0         0         0       \n",
       "⎢                                                                             \n",
       "⎣0  0     0         0         0         0         0         0         0       \n",
       "\n",
       "  0      0  0  0  0  0  0⎤\n",
       "                         ⎥\n",
       "  0      0  0  0  0  0  0⎥\n",
       "                         ⎥\n",
       "  0      0  0  0  0  0  0⎥\n",
       "                         ⎥\n",
       "4⋅p + 4  0  0  0  0  0  0⎥\n",
       "                         ⎥\n",
       "  0      0  0  0  0  0  0⎥\n",
       "                         ⎥\n",
       "4⋅p + 4  0  0  0  0  0  0⎥\n",
       "                         ⎥\n",
       "  0      0  0  0  0  0  0⎥\n",
       "                         ⎥\n",
       "  0      0  0  0  0  0  0⎥\n",
       "                         ⎥\n",
       "  0      0  0  0  0  0  0⎥\n",
       "                         ⎥\n",
       "3⋅p + 4  0  0  0  0  0  0⎥\n",
       "                         ⎥\n",
       "  0      p  0  0  0  0  0⎥\n",
       "                         ⎥\n",
       "  0      0  p  0  0  0  0⎥\n",
       "                         ⎥\n",
       "  0      0  0  p  0  0  0⎥\n",
       "                         ⎥\n",
       "  0      0  0  0  p  0  0⎥\n",
       "                         ⎥\n",
       "  0      0  0  0  0  p  0⎥\n",
       "                         ⎥\n",
       "  0      0  0  0  0  0  p⎦"
      ]
     },
     "execution_count": 114,
     "metadata": {},
     "output_type": "execute_result"
    }
   ],
   "source": [
    "partial_transpose(M, 2)"
   ]
  },
  {
   "cell_type": "code",
   "execution_count": 104,
   "metadata": {
    "scrolled": true
   },
   "outputs": [
    {
     "data": {
      "image/png": "[encoded data removed]",
      "text/latex": [
       "$$\\left[\\begin{matrix}6 x + 3 & 0 & 0 & 0 & 0 & 0 & 0 & 0 & 0\\\\0 & - 3 x + 3 & 0 & 0 & 0 & 0 & 0 & 0 & 0\\\\0 & 0 & - 3 x + 3 & 0 & 0 & 0 & 0 & 0 & 0\\\\0 & 0 & 0 & - 3 x + 3 & 0 & 0 & 0 & 0 & 0\\\\0 & 0 & 0 & 0 & 6 x + 3 & 0 & 0 & 0 & 0\\\\0 & 0 & 0 & 0 & 0 & - 3 x + 3 & 0 & 0 & 0\\\\0 & 0 & 0 & 0 & 0 & 0 & - 3 x + 3 & 0 & 0\\\\0 & 0 & 0 & 0 & 0 & 0 & 0 & - 3 x + 3 & 0\\\\0 & 0 & 0 & 0 & 0 & 0 & 0 & 0 & 6 x + 3\\end{matrix}\\right]$$"
      ],
      "text/plain": [
       "⎡6⋅x + 3     0         0         0         0        0         0         0     \n",
       "⎢                                                                             \n",
       "⎢   0     -3⋅x + 3     0         0         0        0         0         0     \n",
       "⎢                                                                             \n",
       "⎢   0        0      -3⋅x + 3     0         0        0         0         0     \n",
       "⎢                                                                             \n",
       "⎢   0        0         0      -3⋅x + 3     0        0         0         0     \n",
       "⎢                                                                             \n",
       "⎢   0        0         0         0      6⋅x + 3     0         0         0     \n",
       "⎢                                                                             \n",
       "⎢   0        0         0         0         0     -3⋅x + 3     0         0     \n",
       "⎢                                                                             \n",
       "⎢   0        0         0         0         0        0      -3⋅x + 3     0     \n",
       "⎢                                                                             \n",
       "⎢   0        0         0         0         0        0         0      -3⋅x + 3 \n",
       "⎢                                                                             \n",
       "⎣   0        0         0         0         0        0         0         0     \n",
       "\n",
       "    0   ⎤\n",
       "        ⎥\n",
       "    0   ⎥\n",
       "        ⎥\n",
       "    0   ⎥\n",
       "        ⎥\n",
       "    0   ⎥\n",
       "        ⎥\n",
       "    0   ⎥\n",
       "        ⎥\n",
       "    0   ⎥\n",
       "        ⎥\n",
       "    0   ⎥\n",
       "        ⎥\n",
       "    0   ⎥\n",
       "        ⎥\n",
       " 6⋅x + 3⎦"
      ]
     },
     "execution_count": 104,
     "metadata": {},
     "output_type": "execute_result"
    }
   ],
   "source": [
    "partial_trace(M, 3)"
   ]
  },
  {
   "cell_type": "code",
   "execution_count": 88,
   "metadata": {},
   "outputs": [
    {
     "data": {
      "image/png": "[encoded data removed]",
      "text/latex": [
       "$$16$$"
      ],
      "text/plain": [
       "16"
      ]
     },
     "execution_count": 88,
     "metadata": {},
     "output_type": "execute_result"
    }
   ],
   "source": [
    "len(M.row(0))"
   ]
  },
  {
   "cell_type": "markdown",
   "metadata": {},
   "source": [
    "# Problem 1"
   ]
  },
  {
   "cell_type": "code",
   "execution_count": 116,
   "metadata": {},
   "outputs": [],
   "source": [
    "M = eye(27)\n",
    "for i in range(27):\n",
    "    M[i, i] = 1 - x\n",
    "    \n",
    "M[0, 0] = M[0, 0] + 9*x\n",
    "M[13, 13] = M[13, 13] + 9*x\n",
    "M[26, 26] = M[26, 26] + 9*x\n",
    "\n",
    "M[1, 12] = M[1, 12] + 9*x\n",
    "M[12, 1] = M[12, 1] + 9*x\n",
    "\n",
    "M[2, 24] = M[2, 24] + 9*x\n",
    "M[24, 2] = M[24, 2] + 9*x\n",
    "\n",
    "M[14, 25] = M[14, 25] + 9*x\n",
    "M[25, 14] = M[25, 14] + 9*x"
   ]
  },
  {
   "cell_type": "code",
   "execution_count": 117,
   "metadata": {
    "scrolled": false
   },
   "outputs": [
    {
     "data": {
      "image/png": "[encoded data removed]",
      "text/latex": [
       "$$\\left[\\begin{array}{ccccccccccccccccccccccccccc}8 x + 1 & 0 & 0 & 0 & 0 & 0 & 0 & 0 & 0 & 0 & 0 & 0 & 0 & 0 & 0 & 0 & 0 & 0 & 0 & 0 & 0 & 0 & 0 & 0 & 0 & 0 & 0\\\\0 & - x + 1 & 0 & 0 & 0 & 0 & 0 & 0 & 0 & 0 & 0 & 0 & 9 x & 0 & 0 & 0 & 0 & 0 & 0 & 0 & 0 & 0 & 0 & 0 & 0 & 0 & 0\\\\0 & 0 & - x + 1 & 0 & 0 & 0 & 0 & 0 & 0 & 0 & 0 & 0 & 0 & 0 & 0 & 0 & 0 & 0 & 0 & 0 & 0 & 0 & 0 & 0 & 9 x & 0 & 0\\\\0 & 0 & 0 & - x + 1 & 0 & 0 & 0 & 0 & 0 & 0 & 0 & 0 & 0 & 0 & 0 & 0 & 0 & 0 & 0 & 0 & 0 & 0 & 0 & 0 & 0 & 0 & 0\\\\0 & 0 & 0 & 0 & - x + 1 & 0 & 0 & 0 & 0 & 0 & 0 & 0 & 0 & 0 & 0 & 0 & 0 & 0 & 0 & 0 & 0 & 0 & 0 & 0 & 0 & 0 & 0\\\\0 & 0 & 0 & 0 & 0 & - x + 1 & 0 & 0 & 0 & 0 & 0 & 0 & 0 & 0 & 0 & 0 & 0 & 0 & 0 & 0 & 0 & 0 & 0 & 0 & 0 & 0 & 0\\\\0 & 0 & 0 & 0 & 0 & 0 & - x + 1 & 0 & 0 & 0 & 0 & 0 & 0 & 0 & 0 & 0 & 0 & 0 & 0 & 0 & 0 & 0 & 0 & 0 & 0 & 0 & 0\\\\0 & 0 & 0 & 0 & 0 & 0 & 0 & - x + 1 & 0 & 0 & 0 & 0 & 0 & 0 & 0 & 0 & 0 & 0 & 0 & 0 & 0 & 0 & 0 & 0 & 0 & 0 & 0\\\\0 & 0 & 0 & 0 & 0 & 0 & 0 & 0 & - x + 1 & 0 & 0 & 0 & 0 & 0 & 0 & 0 & 0 & 0 & 0 & 0 & 0 & 0 & 0 & 0 & 0 & 0 & 0\\\\0 & 0 & 0 & 0 & 0 & 0 & 0 & 0 & 0 & - x + 1 & 0 & 0 & 0 & 0 & 0 & 0 & 0 & 0 & 0 & 0 & 0 & 0 & 0 & 0 & 0 & 0 & 0\\\\0 & 0 & 0 & 0 & 0 & 0 & 0 & 0 & 0 & 0 & - x + 1 & 0 & 0 & 0 & 0 & 0 & 0 & 0 & 0 & 0 & 0 & 0 & 0 & 0 & 0 & 0 & 0\\\\0 & 0 & 0 & 0 & 0 & 0 & 0 & 0 & 0 & 0 & 0 & - x + 1 & 0 & 0 & 0 & 0 & 0 & 0 & 0 & 0 & 0 & 0 & 0 & 0 & 0 & 0 & 0\\\\0 & 9 x & 0 & 0 & 0 & 0 & 0 & 0 & 0 & 0 & 0 & 0 & - x + 1 & 0 & 0 & 0 & 0 & 0 & 0 & 0 & 0 & 0 & 0 & 0 & 0 & 0 & 0\\\\0 & 0 & 0 & 0 & 0 & 0 & 0 & 0 & 0 & 0 & 0 & 0 & 0 & 8 x + 1 & 0 & 0 & 0 & 0 & 0 & 0 & 0 & 0 & 0 & 0 & 0 & 0 & 0\\\\0 & 0 & 0 & 0 & 0 & 0 & 0 & 0 & 0 & 0 & 0 & 0 & 0 & 0 & - x + 1 & 0 & 0 & 0 & 0 & 0 & 0 & 0 & 0 & 0 & 0 & 9 x & 0\\\\0 & 0 & 0 & 0 & 0 & 0 & 0 & 0 & 0 & 0 & 0 & 0 & 0 & 0 & 0 & - x + 1 & 0 & 0 & 0 & 0 & 0 & 0 & 0 & 0 & 0 & 0 & 0\\\\0 & 0 & 0 & 0 & 0 & 0 & 0 & 0 & 0 & 0 & 0 & 0 & 0 & 0 & 0 & 0 & - x + 1 & 0 & 0 & 0 & 0 & 0 & 0 & 0 & 0 & 0 & 0\\\\0 & 0 & 0 & 0 & 0 & 0 & 0 & 0 & 0 & 0 & 0 & 0 & 0 & 0 & 0 & 0 & 0 & - x + 1 & 0 & 0 & 0 & 0 & 0 & 0 & 0 & 0 & 0\\\\0 & 0 & 0 & 0 & 0 & 0 & 0 & 0 & 0 & 0 & 0 & 0 & 0 & 0 & 0 & 0 & 0 & 0 & - x + 1 & 0 & 0 & 0 & 0 & 0 & 0 & 0 & 0\\\\0 & 0 & 0 & 0 & 0 & 0 & 0 & 0 & 0 & 0 & 0 & 0 & 0 & 0 & 0 & 0 & 0 & 0 & 0 & - x + 1 & 0 & 0 & 0 & 0 & 0 & 0 & 0\\\\0 & 0 & 0 & 0 & 0 & 0 & 0 & 0 & 0 & 0 & 0 & 0 & 0 & 0 & 0 & 0 & 0 & 0 & 0 & 0 & - x + 1 & 0 & 0 & 0 & 0 & 0 & 0\\\\0 & 0 & 0 & 0 & 0 & 0 & 0 & 0 & 0 & 0 & 0 & 0 & 0 & 0 & 0 & 0 & 0 & 0 & 0 & 0 & 0 & - x + 1 & 0 & 0 & 0 & 0 & 0\\\\0 & 0 & 0 & 0 & 0 & 0 & 0 & 0 & 0 & 0 & 0 & 0 & 0 & 0 & 0 & 0 & 0 & 0 & 0 & 0 & 0 & 0 & - x + 1 & 0 & 0 & 0 & 0\\\\0 & 0 & 0 & 0 & 0 & 0 & 0 & 0 & 0 & 0 & 0 & 0 & 0 & 0 & 0 & 0 & 0 & 0 & 0 & 0 & 0 & 0 & 0 & - x + 1 & 0 & 0 & 0\\\\0 & 0 & 9 x & 0 & 0 & 0 & 0 & 0 & 0 & 0 & 0 & 0 & 0 & 0 & 0 & 0 & 0 & 0 & 0 & 0 & 0 & 0 & 0 & 0 & - x + 1 & 0 & 0\\\\0 & 0 & 0 & 0 & 0 & 0 & 0 & 0 & 0 & 0 & 0 & 0 & 0 & 0 & 9 x & 0 & 0 & 0 & 0 & 0 & 0 & 0 & 0 & 0 & 0 & - x + 1 & 0\\\\0 & 0 & 0 & 0 & 0 & 0 & 0 & 0 & 0 & 0 & 0 & 0 & 0 & 0 & 0 & 0 & 0 & 0 & 0 & 0 & 0 & 0 & 0 & 0 & 0 & 0 & 8 x + 1\\end{array}\\right]$$"
      ],
      "text/plain": [
       "⎡8⋅x + 1    0       0       0       0       0       0       0       0       0 \n",
       "⎢                                                                             \n",
       "⎢   0     -x + 1    0       0       0       0       0       0       0       0 \n",
       "⎢                                                                             \n",
       "⎢   0       0     -x + 1    0       0       0       0       0       0       0 \n",
       "⎢                                                                             \n",
       "⎢   0       0       0     -x + 1    0       0       0       0       0       0 \n",
       "⎢                                                                             \n",
       "⎢   0       0       0       0     -x + 1    0       0       0       0       0 \n",
       "⎢                                                                             \n",
       "⎢   0       0       0       0       0     -x + 1    0       0       0       0 \n",
       "⎢                                                                             \n",
       "⎢   0       0       0       0       0       0     -x + 1    0       0       0 \n",
       "⎢                                                                             \n",
       "⎢   0       0       0       0       0       0       0     -x + 1    0       0 \n",
       "⎢                                                                             \n",
       "⎢   0       0       0       0       0       0       0       0     -x + 1    0 \n",
       "⎢                                                                             \n",
       "⎢   0       0       0       0       0       0       0       0       0     -x +\n",
       "⎢                                                                             \n",
       "⎢   0       0       0       0       0       0       0       0       0       0 \n",
       "⎢                                                                             \n",
       "⎢   0       0       0       0       0       0       0       0       0       0 \n",
       "⎢                                                                             \n",
       "⎢   0      9⋅x      0       0       0       0       0       0       0       0 \n",
       "⎢                                                                             \n",
       "⎢   0       0       0       0       0       0       0       0       0       0 \n",
       "⎢                                                                             \n",
       "⎢   0       0       0       0       0       0       0       0       0       0 \n",
       "⎢                                                                             \n",
       "⎢   0       0       0       0       0       0       0       0       0       0 \n",
       "⎢                                                                             \n",
       "⎢   0       0       0       0       0       0       0       0       0       0 \n",
       "⎢                                                                             \n",
       "⎢   0       0       0       0       0       0       0       0       0       0 \n",
       "⎢                                                                             \n",
       "⎢   0       0       0       0       0       0       0       0       0       0 \n",
       "⎢                                                                             \n",
       "⎢   0       0       0       0       0       0       0       0       0       0 \n",
       "⎢                                                                             \n",
       "⎢   0       0       0       0       0       0       0       0       0       0 \n",
       "⎢                                                                             \n",
       "⎢   0       0       0       0       0       0       0       0       0       0 \n",
       "⎢                                                                             \n",
       "⎢   0       0       0       0       0       0       0       0       0       0 \n",
       "⎢                                                                             \n",
       "⎢   0       0       0       0       0       0       0       0       0       0 \n",
       "⎢                                                                             \n",
       "⎢   0       0      9⋅x      0       0       0       0       0       0       0 \n",
       "⎢                                                                             \n",
       "⎢   0       0       0       0       0       0       0       0       0       0 \n",
       "⎢                                                                             \n",
       "⎣   0       0       0       0       0       0       0       0       0       0 \n",
       "\n",
       "      0       0       0        0       0       0       0       0       0      \n",
       "                                                                              \n",
       "      0       0      9⋅x       0       0       0       0       0       0      \n",
       "                                                                              \n",
       "      0       0       0        0       0       0       0       0       0      \n",
       "                                                                              \n",
       "      0       0       0        0       0       0       0       0       0      \n",
       "                                                                              \n",
       "      0       0       0        0       0       0       0       0       0      \n",
       "                                                                              \n",
       "      0       0       0        0       0       0       0       0       0      \n",
       "                                                                              \n",
       "      0       0       0        0       0       0       0       0       0      \n",
       "                                                                              \n",
       "      0       0       0        0       0       0       0       0       0      \n",
       "                                                                              \n",
       "      0       0       0        0       0       0       0       0       0      \n",
       "                                                                              \n",
       " 1    0       0       0        0       0       0       0       0       0      \n",
       "                                                                              \n",
       "    -x + 1    0       0        0       0       0       0       0       0      \n",
       "                                                                              \n",
       "      0     -x + 1    0        0       0       0       0       0       0      \n",
       "                                                                              \n",
       "      0       0     -x + 1     0       0       0       0       0       0      \n",
       "                                                                              \n",
       "      0       0       0     8⋅x + 1    0       0       0       0       0      \n",
       "                                                                              \n",
       "      0       0       0        0     -x + 1    0       0       0       0      \n",
       "                                                                              \n",
       "      0       0       0        0       0     -x + 1    0       0       0      \n",
       "                                                                              \n",
       "      0       0       0        0       0       0     -x + 1    0       0      \n",
       "                                                                              \n",
       "      0       0       0        0       0       0       0     -x + 1    0      \n",
       "                                                                              \n",
       "      0       0       0        0       0       0       0       0     -x + 1   \n",
       "                                                                              \n",
       "      0       0       0        0       0       0       0       0       0     -\n",
       "                                                                              \n",
       "      0       0       0        0       0       0       0       0       0      \n",
       "                                                                              \n",
       "      0       0       0        0       0       0       0       0       0      \n",
       "                                                                              \n",
       "      0       0       0        0       0       0       0       0       0      \n",
       "                                                                              \n",
       "      0       0       0        0       0       0       0       0       0      \n",
       "                                                                              \n",
       "      0       0       0        0       0       0       0       0       0      \n",
       "                                                                              \n",
       "      0       0       0        0      9⋅x      0       0       0       0      \n",
       "                                                                              \n",
       "      0       0       0        0       0       0       0       0       0      \n",
       "\n",
       " 0       0       0       0       0       0       0        0   ⎤\n",
       "                                                              ⎥\n",
       " 0       0       0       0       0       0       0        0   ⎥\n",
       "                                                              ⎥\n",
       " 0       0       0       0       0      9⋅x      0        0   ⎥\n",
       "                                                              ⎥\n",
       " 0       0       0       0       0       0       0        0   ⎥\n",
       "                                                              ⎥\n",
       " 0       0       0       0       0       0       0        0   ⎥\n",
       "                                                              ⎥\n",
       " 0       0       0       0       0       0       0        0   ⎥\n",
       "                                                              ⎥\n",
       " 0       0       0       0       0       0       0        0   ⎥\n",
       "                                                              ⎥\n",
       " 0       0       0       0       0       0       0        0   ⎥\n",
       "                                                              ⎥\n",
       " 0       0       0       0       0       0       0        0   ⎥\n",
       "                                                              ⎥\n",
       " 0       0       0       0       0       0       0        0   ⎥\n",
       "                                                              ⎥\n",
       " 0       0       0       0       0       0       0        0   ⎥\n",
       "                                                              ⎥\n",
       " 0       0       0       0       0       0       0        0   ⎥\n",
       "                                                              ⎥\n",
       " 0       0       0       0       0       0       0        0   ⎥\n",
       "                                                              ⎥\n",
       " 0       0       0       0       0       0       0        0   ⎥\n",
       "                                                              ⎥\n",
       " 0       0       0       0       0       0      9⋅x       0   ⎥\n",
       "                                                              ⎥\n",
       " 0       0       0       0       0       0       0        0   ⎥\n",
       "                                                              ⎥\n",
       " 0       0       0       0       0       0       0        0   ⎥\n",
       "                                                              ⎥\n",
       " 0       0       0       0       0       0       0        0   ⎥\n",
       "                                                              ⎥\n",
       " 0       0       0       0       0       0       0        0   ⎥\n",
       "                                                              ⎥\n",
       "x + 1    0       0       0       0       0       0        0   ⎥\n",
       "                                                              ⎥\n",
       " 0     -x + 1    0       0       0       0       0        0   ⎥\n",
       "                                                              ⎥\n",
       " 0       0     -x + 1    0       0       0       0        0   ⎥\n",
       "                                                              ⎥\n",
       " 0       0       0     -x + 1    0       0       0        0   ⎥\n",
       "                                                              ⎥\n",
       " 0       0       0       0     -x + 1    0       0        0   ⎥\n",
       "                                                              ⎥\n",
       " 0       0       0       0       0     -x + 1    0        0   ⎥\n",
       "                                                              ⎥\n",
       " 0       0       0       0       0       0     -x + 1     0   ⎥\n",
       "                                                              ⎥\n",
       " 0       0       0       0       0       0       0     8⋅x + 1⎦"
      ]
     },
     "execution_count": 117,
     "metadata": {},
     "output_type": "execute_result"
    }
   ],
   "source": [
    "M"
   ]
  },
  {
   "cell_type": "code",
   "execution_count": 119,
   "metadata": {},
   "outputs": [
    {
     "data": {
      "image/png": "[encoded data removed]",
      "text/latex": [
       "$$\\left[\\begin{array}{ccccccccccccccccccccccccccc}8 x + 1 & 0 & 0 & 0 & 0 & 0 & 0 & 0 & 0 & 0 & 0 & 0 & 0 & 9 x & 0 & 0 & 0 & 0 & 0 & 0 & 0 & 0 & 0 & 0 & 0 & 0 & 9 x\\\\0 & - x + 1 & 0 & 0 & 0 & 0 & 0 & 0 & 0 & 0 & 0 & 0 & 0 & 0 & 0 & 0 & 0 & 0 & 0 & 0 & 0 & 0 & 0 & 0 & 0 & 0 & 0\\\\0 & 0 & - x + 1 & 0 & 0 & 0 & 0 & 0 & 0 & 0 & 0 & 0 & 0 & 0 & 0 & 0 & 0 & 0 & 0 & 0 & 0 & 0 & 0 & 0 & 0 & 0 & 0\\\\0 & 0 & 0 & - x + 1 & 0 & 0 & 0 & 0 & 0 & 0 & 0 & 0 & 0 & 0 & 0 & 0 & 0 & 0 & 0 & 0 & 0 & 0 & 0 & 0 & 0 & 0 & 0\\\\0 & 0 & 0 & 0 & - x + 1 & 0 & 0 & 0 & 0 & 0 & 0 & 0 & 0 & 0 & 0 & 0 & 0 & 0 & 0 & 0 & 0 & 0 & 0 & 0 & 0 & 0 & 0\\\\0 & 0 & 0 & 0 & 0 & - x + 1 & 0 & 0 & 0 & 0 & 0 & 0 & 0 & 0 & 0 & 0 & 0 & 0 & 0 & 0 & 0 & 0 & 0 & 0 & 0 & 0 & 0\\\\0 & 0 & 0 & 0 & 0 & 0 & - x + 1 & 0 & 0 & 0 & 0 & 0 & 0 & 0 & 0 & 0 & 0 & 0 & 0 & 0 & 0 & 0 & 0 & 0 & 0 & 0 & 0\\\\0 & 0 & 0 & 0 & 0 & 0 & 0 & - x + 1 & 0 & 0 & 0 & 0 & 0 & 0 & 0 & 0 & 0 & 0 & 0 & 0 & 0 & 0 & 0 & 0 & 0 & 0 & 0\\\\0 & 0 & 0 & 0 & 0 & 0 & 0 & 0 & - x + 1 & 0 & 0 & 0 & 0 & 0 & 0 & 0 & 0 & 0 & 0 & 0 & 0 & 0 & 0 & 0 & 0 & 0 & 0\\\\0 & 0 & 0 & 0 & 0 & 0 & 0 & 0 & 0 & - x + 1 & 0 & 0 & 0 & 0 & 0 & 0 & 0 & 0 & 0 & 0 & 0 & 0 & 0 & 0 & 0 & 0 & 0\\\\0 & 0 & 0 & 0 & 0 & 0 & 0 & 0 & 0 & 0 & - x + 1 & 0 & 0 & 0 & 0 & 0 & 0 & 0 & 0 & 0 & 0 & 0 & 0 & 0 & 0 & 0 & 0\\\\0 & 0 & 0 & 0 & 0 & 0 & 0 & 0 & 0 & 0 & 0 & - x + 1 & 0 & 0 & 0 & 0 & 0 & 0 & 0 & 0 & 0 & 0 & 0 & 0 & 0 & 0 & 0\\\\0 & 0 & 0 & 0 & 0 & 0 & 0 & 0 & 0 & 0 & 0 & 0 & - x + 1 & 0 & 0 & 0 & 0 & 0 & 0 & 0 & 0 & 0 & 0 & 0 & 0 & 0 & 0\\\\9 x & 0 & 0 & 0 & 0 & 0 & 0 & 0 & 0 & 0 & 0 & 0 & 0 & 8 x + 1 & 0 & 0 & 0 & 0 & 0 & 0 & 0 & 0 & 0 & 0 & 0 & 0 & 9 x\\\\0 & 0 & 0 & 0 & 0 & 0 & 0 & 0 & 0 & 0 & 0 & 0 & 0 & 0 & - x + 1 & 0 & 0 & 0 & 0 & 0 & 0 & 0 & 0 & 0 & 0 & 0 & 0\\\\0 & 0 & 0 & 0 & 0 & 0 & 0 & 0 & 0 & 0 & 0 & 0 & 0 & 0 & 0 & - x + 1 & 0 & 0 & 0 & 0 & 0 & 0 & 0 & 0 & 0 & 0 & 0\\\\0 & 0 & 0 & 0 & 0 & 0 & 0 & 0 & 0 & 0 & 0 & 0 & 0 & 0 & 0 & 0 & - x + 1 & 0 & 0 & 0 & 0 & 0 & 0 & 0 & 0 & 0 & 0\\\\0 & 0 & 0 & 0 & 0 & 0 & 0 & 0 & 0 & 0 & 0 & 0 & 0 & 0 & 0 & 0 & 0 & - x + 1 & 0 & 0 & 0 & 0 & 0 & 0 & 0 & 0 & 0\\\\0 & 0 & 0 & 0 & 0 & 0 & 0 & 0 & 0 & 0 & 0 & 0 & 0 & 0 & 0 & 0 & 0 & 0 & - x + 1 & 0 & 0 & 0 & 0 & 0 & 0 & 0 & 0\\\\0 & 0 & 0 & 0 & 0 & 0 & 0 & 0 & 0 & 0 & 0 & 0 & 0 & 0 & 0 & 0 & 0 & 0 & 0 & - x + 1 & 0 & 0 & 0 & 0 & 0 & 0 & 0\\\\0 & 0 & 0 & 0 & 0 & 0 & 0 & 0 & 0 & 0 & 0 & 0 & 0 & 0 & 0 & 0 & 0 & 0 & 0 & 0 & - x + 1 & 0 & 0 & 0 & 0 & 0 & 0\\\\0 & 0 & 0 & 0 & 0 & 0 & 0 & 0 & 0 & 0 & 0 & 0 & 0 & 0 & 0 & 0 & 0 & 0 & 0 & 0 & 0 & - x + 1 & 0 & 0 & 0 & 0 & 0\\\\0 & 0 & 0 & 0 & 0 & 0 & 0 & 0 & 0 & 0 & 0 & 0 & 0 & 0 & 0 & 0 & 0 & 0 & 0 & 0 & 0 & 0 & - x + 1 & 0 & 0 & 0 & 0\\\\0 & 0 & 0 & 0 & 0 & 0 & 0 & 0 & 0 & 0 & 0 & 0 & 0 & 0 & 0 & 0 & 0 & 0 & 0 & 0 & 0 & 0 & 0 & - x + 1 & 0 & 0 & 0\\\\0 & 0 & 0 & 0 & 0 & 0 & 0 & 0 & 0 & 0 & 0 & 0 & 0 & 0 & 0 & 0 & 0 & 0 & 0 & 0 & 0 & 0 & 0 & 0 & - x + 1 & 0 & 0\\\\0 & 0 & 0 & 0 & 0 & 0 & 0 & 0 & 0 & 0 & 0 & 0 & 0 & 0 & 0 & 0 & 0 & 0 & 0 & 0 & 0 & 0 & 0 & 0 & 0 & - x + 1 & 0\\\\9 x & 0 & 0 & 0 & 0 & 0 & 0 & 0 & 0 & 0 & 0 & 0 & 0 & 9 x & 0 & 0 & 0 & 0 & 0 & 0 & 0 & 0 & 0 & 0 & 0 & 0 & 8 x + 1\\end{array}\\right]$$"
      ],
      "text/plain": [
       "⎡8⋅x + 1    0       0       0       0       0       0       0       0       0 \n",
       "⎢                                                                             \n",
       "⎢   0     -x + 1    0       0       0       0       0       0       0       0 \n",
       "⎢                                                                             \n",
       "⎢   0       0     -x + 1    0       0       0       0       0       0       0 \n",
       "⎢                                                                             \n",
       "⎢   0       0       0     -x + 1    0       0       0       0       0       0 \n",
       "⎢                                                                             \n",
       "⎢   0       0       0       0     -x + 1    0       0       0       0       0 \n",
       "⎢                                                                             \n",
       "⎢   0       0       0       0       0     -x + 1    0       0       0       0 \n",
       "⎢                                                                             \n",
       "⎢   0       0       0       0       0       0     -x + 1    0       0       0 \n",
       "⎢                                                                             \n",
       "⎢   0       0       0       0       0       0       0     -x + 1    0       0 \n",
       "⎢                                                                             \n",
       "⎢   0       0       0       0       0       0       0       0     -x + 1    0 \n",
       "⎢                                                                             \n",
       "⎢   0       0       0       0       0       0       0       0       0     -x +\n",
       "⎢                                                                             \n",
       "⎢   0       0       0       0       0       0       0       0       0       0 \n",
       "⎢                                                                             \n",
       "⎢   0       0       0       0       0       0       0       0       0       0 \n",
       "⎢                                                                             \n",
       "⎢   0       0       0       0       0       0       0       0       0       0 \n",
       "⎢                                                                             \n",
       "⎢  9⋅x      0       0       0       0       0       0       0       0       0 \n",
       "⎢                                                                             \n",
       "⎢   0       0       0       0       0       0       0       0       0       0 \n",
       "⎢                                                                             \n",
       "⎢   0       0       0       0       0       0       0       0       0       0 \n",
       "⎢                                                                             \n",
       "⎢   0       0       0       0       0       0       0       0       0       0 \n",
       "⎢                                                                             \n",
       "⎢   0       0       0       0       0       0       0       0       0       0 \n",
       "⎢                                                                             \n",
       "⎢   0       0       0       0       0       0       0       0       0       0 \n",
       "⎢                                                                             \n",
       "⎢   0       0       0       0       0       0       0       0       0       0 \n",
       "⎢                                                                             \n",
       "⎢   0       0       0       0       0       0       0       0       0       0 \n",
       "⎢                                                                             \n",
       "⎢   0       0       0       0       0       0       0       0       0       0 \n",
       "⎢                                                                             \n",
       "⎢   0       0       0       0       0       0       0       0       0       0 \n",
       "⎢                                                                             \n",
       "⎢   0       0       0       0       0       0       0       0       0       0 \n",
       "⎢                                                                             \n",
       "⎢   0       0       0       0       0       0       0       0       0       0 \n",
       "⎢                                                                             \n",
       "⎢   0       0       0       0       0       0       0       0       0       0 \n",
       "⎢                                                                             \n",
       "⎣  9⋅x      0       0       0       0       0       0       0       0       0 \n",
       "\n",
       "      0       0       0       9⋅x      0       0       0       0       0      \n",
       "                                                                              \n",
       "      0       0       0        0       0       0       0       0       0      \n",
       "                                                                              \n",
       "      0       0       0        0       0       0       0       0       0      \n",
       "                                                                              \n",
       "      0       0       0        0       0       0       0       0       0      \n",
       "                                                                              \n",
       "      0       0       0        0       0       0       0       0       0      \n",
       "                                                                              \n",
       "      0       0       0        0       0       0       0       0       0      \n",
       "                                                                              \n",
       "      0       0       0        0       0       0       0       0       0      \n",
       "                                                                              \n",
       "      0       0       0        0       0       0       0       0       0      \n",
       "                                                                              \n",
       "      0       0       0        0       0       0       0       0       0      \n",
       "                                                                              \n",
       " 1    0       0       0        0       0       0       0       0       0      \n",
       "                                                                              \n",
       "    -x + 1    0       0        0       0       0       0       0       0      \n",
       "                                                                              \n",
       "      0     -x + 1    0        0       0       0       0       0       0      \n",
       "                                                                              \n",
       "      0       0     -x + 1     0       0       0       0       0       0      \n",
       "                                                                              \n",
       "      0       0       0     8⋅x + 1    0       0       0       0       0      \n",
       "                                                                              \n",
       "      0       0       0        0     -x + 1    0       0       0       0      \n",
       "                                                                              \n",
       "      0       0       0        0       0     -x + 1    0       0       0      \n",
       "                                                                              \n",
       "      0       0       0        0       0       0     -x + 1    0       0      \n",
       "                                                                              \n",
       "      0       0       0        0       0       0       0     -x + 1    0      \n",
       "                                                                              \n",
       "      0       0       0        0       0       0       0       0     -x + 1   \n",
       "                                                                              \n",
       "      0       0       0        0       0       0       0       0       0     -\n",
       "                                                                              \n",
       "      0       0       0        0       0       0       0       0       0      \n",
       "                                                                              \n",
       "      0       0       0        0       0       0       0       0       0      \n",
       "                                                                              \n",
       "      0       0       0        0       0       0       0       0       0      \n",
       "                                                                              \n",
       "      0       0       0        0       0       0       0       0       0      \n",
       "                                                                              \n",
       "      0       0       0        0       0       0       0       0       0      \n",
       "                                                                              \n",
       "      0       0       0        0       0       0       0       0       0      \n",
       "                                                                              \n",
       "      0       0       0       9⋅x      0       0       0       0       0      \n",
       "\n",
       " 0       0       0       0       0       0       0       9⋅x  ⎤\n",
       "                                                              ⎥\n",
       " 0       0       0       0       0       0       0        0   ⎥\n",
       "                                                              ⎥\n",
       " 0       0       0       0       0       0       0        0   ⎥\n",
       "                                                              ⎥\n",
       " 0       0       0       0       0       0       0        0   ⎥\n",
       "                                                              ⎥\n",
       " 0       0       0       0       0       0       0        0   ⎥\n",
       "                                                              ⎥\n",
       " 0       0       0       0       0       0       0        0   ⎥\n",
       "                                                              ⎥\n",
       " 0       0       0       0       0       0       0        0   ⎥\n",
       "                                                              ⎥\n",
       " 0       0       0       0       0       0       0        0   ⎥\n",
       "                                                              ⎥\n",
       " 0       0       0       0       0       0       0        0   ⎥\n",
       "                                                              ⎥\n",
       " 0       0       0       0       0       0       0        0   ⎥\n",
       "                                                              ⎥\n",
       " 0       0       0       0       0       0       0        0   ⎥\n",
       "                                                              ⎥\n",
       " 0       0       0       0       0       0       0        0   ⎥\n",
       "                                                              ⎥\n",
       " 0       0       0       0       0       0       0        0   ⎥\n",
       "                                                              ⎥\n",
       " 0       0       0       0       0       0       0       9⋅x  ⎥\n",
       "                                                              ⎥\n",
       " 0       0       0       0       0       0       0        0   ⎥\n",
       "                                                              ⎥\n",
       " 0       0       0       0       0       0       0        0   ⎥\n",
       "                                                              ⎥\n",
       " 0       0       0       0       0       0       0        0   ⎥\n",
       "                                                              ⎥\n",
       " 0       0       0       0       0       0       0        0   ⎥\n",
       "                                                              ⎥\n",
       " 0       0       0       0       0       0       0        0   ⎥\n",
       "                                                              ⎥\n",
       "x + 1    0       0       0       0       0       0        0   ⎥\n",
       "                                                              ⎥\n",
       " 0     -x + 1    0       0       0       0       0        0   ⎥\n",
       "                                                              ⎥\n",
       " 0       0     -x + 1    0       0       0       0        0   ⎥\n",
       "                                                              ⎥\n",
       " 0       0       0     -x + 1    0       0       0        0   ⎥\n",
       "                                                              ⎥\n",
       " 0       0       0       0     -x + 1    0       0        0   ⎥\n",
       "                                                              ⎥\n",
       " 0       0       0       0       0     -x + 1    0        0   ⎥\n",
       "                                                              ⎥\n",
       " 0       0       0       0       0       0     -x + 1     0   ⎥\n",
       "                                                              ⎥\n",
       " 0       0       0       0       0       0       0     8⋅x + 1⎦"
      ]
     },
     "execution_count": 119,
     "metadata": {},
     "output_type": "execute_result"
    }
   ],
   "source": [
    "partial_transpose(M, 3)"
   ]
  },
  {
   "cell_type": "code",
   "execution_count": 118,
   "metadata": {},
   "outputs": [
    {
     "data": {
      "image/png": "[encoded data removed]",
      "text/latex": [
       "$$\\left[\\begin{matrix}6 x + 3 & 0 & 0 & 0 & 0 & 0 & 0 & 0 & 0\\\\0 & - 3 x + 3 & 0 & 0 & 0 & 0 & 0 & 0 & 0\\\\0 & 0 & - 3 x + 3 & 0 & 0 & 0 & 0 & 0 & 0\\\\0 & 0 & 0 & - 3 x + 3 & 0 & 0 & 0 & 0 & 0\\\\0 & 0 & 0 & 0 & 6 x + 3 & 0 & 0 & 0 & 0\\\\0 & 0 & 0 & 0 & 0 & - 3 x + 3 & 0 & 0 & 0\\\\0 & 0 & 0 & 0 & 0 & 0 & - 3 x + 3 & 0 & 0\\\\0 & 0 & 0 & 0 & 0 & 0 & 0 & - 3 x + 3 & 0\\\\0 & 0 & 0 & 0 & 0 & 0 & 0 & 0 & 6 x + 3\\end{matrix}\\right]$$"
      ],
      "text/plain": [
       "⎡6⋅x + 3     0         0         0         0        0         0         0     \n",
       "⎢                                                                             \n",
       "⎢   0     -3⋅x + 3     0         0         0        0         0         0     \n",
       "⎢                                                                             \n",
       "⎢   0        0      -3⋅x + 3     0         0        0         0         0     \n",
       "⎢                                                                             \n",
       "⎢   0        0         0      -3⋅x + 3     0        0         0         0     \n",
       "⎢                                                                             \n",
       "⎢   0        0         0         0      6⋅x + 3     0         0         0     \n",
       "⎢                                                                             \n",
       "⎢   0        0         0         0         0     -3⋅x + 3     0         0     \n",
       "⎢                                                                             \n",
       "⎢   0        0         0         0         0        0      -3⋅x + 3     0     \n",
       "⎢                                                                             \n",
       "⎢   0        0         0         0         0        0         0      -3⋅x + 3 \n",
       "⎢                                                                             \n",
       "⎣   0        0         0         0         0        0         0         0     \n",
       "\n",
       "    0   ⎤\n",
       "        ⎥\n",
       "    0   ⎥\n",
       "        ⎥\n",
       "    0   ⎥\n",
       "        ⎥\n",
       "    0   ⎥\n",
       "        ⎥\n",
       "    0   ⎥\n",
       "        ⎥\n",
       "    0   ⎥\n",
       "        ⎥\n",
       "    0   ⎥\n",
       "        ⎥\n",
       "    0   ⎥\n",
       "        ⎥\n",
       " 6⋅x + 3⎦"
      ]
     },
     "execution_count": 118,
     "metadata": {},
     "output_type": "execute_result"
    }
   ],
   "source": [
    "partial_trace(M, 3)"
   ]
  },
  {
   "cell_type": "code",
   "execution_count": 37,
   "metadata": {},
   "outputs": [],
   "source": [
    "M = Matrix([\n",
    "    [1 - x, 9*x],\n",
    "    [9*x, 1 - x]\n",
    "])"
   ]
  },
  {
   "cell_type": "code",
   "execution_count": 38,
   "metadata": {},
   "outputs": [
    {
     "data": {
      "image/png": "[encoded data removed]",
      "text/latex": [
       "$$\\left[\\begin{matrix}- x + 1 & 9 x\\\\9 x & - x + 1\\end{matrix}\\right]$$"
      ],
      "text/plain": [
       "⎡-x + 1   9⋅x  ⎤\n",
       "⎢              ⎥\n",
       "⎣ 9⋅x    -x + 1⎦"
      ]
     },
     "execution_count": 38,
     "metadata": {},
     "output_type": "execute_result"
    }
   ],
   "source": [
    "M"
   ]
  },
  {
   "cell_type": "code",
   "execution_count": 39,
   "metadata": {},
   "outputs": [
    {
     "data": {
      "image/png": "[encoded data removed]",
      "text/latex": [
       "$$\\left \\{ - 10 x + 1 : 1, \\quad 8 x + 1 : 1\\right \\}$$"
      ],
      "text/plain": [
       "{-10⋅x + 1: 1, 8⋅x + 1: 1}"
      ]
     },
     "execution_count": 39,
     "metadata": {},
     "output_type": "execute_result"
    }
   ],
   "source": [
    "M.eigenvals()"
   ]
  },
  {
   "cell_type": "code",
   "execution_count": 41,
   "metadata": {},
   "outputs": [],
   "source": [
    "M = Matrix([\n",
    "    [1 + 3*x - y, 3*x],\n",
    "    [3*x, 1 + 3*x - y]\n",
    "])"
   ]
  },
  {
   "cell_type": "code",
   "execution_count": 42,
   "metadata": {},
   "outputs": [
    {
     "data": {
      "image/png": "[encoded data removed]",
      "text/latex": [
       "$$\\left[\\begin{matrix}3 x - y + 1 & 3 x\\\\3 x & 3 x - y + 1\\end{matrix}\\right]$$"
      ],
      "text/plain": [
       "⎡3⋅x - y + 1      3⋅x    ⎤\n",
       "⎢                        ⎥\n",
       "⎣    3⋅x      3⋅x - y + 1⎦"
      ]
     },
     "execution_count": 42,
     "metadata": {},
     "output_type": "execute_result"
    }
   ],
   "source": [
    "M"
   ]
  },
  {
   "cell_type": "code",
   "execution_count": 43,
   "metadata": {},
   "outputs": [
    {
     "data": {
      "image/png": "[encoded data removed]",
      "text/latex": [
       "$$\\left \\{ - y + 1 : 1, \\quad 6 x - y + 1 : 1\\right \\}$$"
      ],
      "text/plain": [
       "{-y + 1: 1, 6⋅x - y + 1: 1}"
      ]
     },
     "execution_count": 43,
     "metadata": {},
     "output_type": "execute_result"
    }
   ],
   "source": [
    "M.eigenvals()"
   ]
  },
  {
   "cell_type": "markdown",
   "metadata": {},
   "source": [
    "# Problem 2"
   ]
  },
  {
   "cell_type": "code",
   "execution_count": 64,
   "metadata": {},
   "outputs": [],
   "source": [
    "M = Matrix([\n",
    "    [3 + 9*x - 3*y, 8*y, 8*y],\n",
    "    [8*y, 3 - 3*x - 3*y, 0],\n",
    "    [8*y, 0, 3 - 3*x - 3*y]\n",
    "])"
   ]
  },
  {
   "cell_type": "code",
   "execution_count": 65,
   "metadata": {},
   "outputs": [
    {
     "data": {
      "image/png": "[encoded data removed]",
      "text/latex": [
       "$$\\left[\\begin{matrix}9 x - 3 y + 3 & 8 y & 8 y\\\\8 y & - 3 x - 3 y + 3 & 0\\\\8 y & 0 & - 3 x - 3 y + 3\\end{matrix}\\right]$$"
      ],
      "text/plain": [
       "⎡9⋅x - 3⋅y + 3       8⋅y             8⋅y      ⎤\n",
       "⎢                                             ⎥\n",
       "⎢     8⋅y       -3⋅x - 3⋅y + 3        0       ⎥\n",
       "⎢                                             ⎥\n",
       "⎣     8⋅y             0         -3⋅x - 3⋅y + 3⎦"
      ]
     },
     "execution_count": 65,
     "metadata": {},
     "output_type": "execute_result"
    }
   ],
   "source": [
    "M"
   ]
  },
  {
   "cell_type": "code",
   "execution_count": 66,
   "metadata": {},
   "outputs": [
    {
     "data": {
      "image/png": "[encoded data removed]",
      "text/latex": [
       "$$\\left \\{ - 3 x - 3 y + 3 : 1, \\quad 3 x - 3 y - 2 \\sqrt{9 x^{2} + 32 y^{2}} + 3 : 1, \\quad 3 x - 3 y + 2 \\sqrt{9 x^{2} + 32 y^{2}} + 3 : 1\\right \\}$$"
      ],
      "text/plain": [
       "⎧                                    ______________                          _\n",
       "⎨                                   ╱    2       2                          ╱ \n",
       "⎩-3⋅x - 3⋅y + 3: 1, 3⋅x - 3⋅y - 2⋅╲╱  9⋅x  + 32⋅y   + 3: 1, 3⋅x - 3⋅y + 2⋅╲╱  \n",
       "\n",
       "_____________       ⎫\n",
       "   2       2        ⎬\n",
       "9⋅x  + 32⋅y   + 3: 1⎭"
      ]
     },
     "execution_count": 66,
     "metadata": {},
     "output_type": "execute_result"
    }
   ],
   "source": [
    "M.eigenvals()"
   ]
  },
  {
   "cell_type": "code",
   "execution_count": 55,
   "metadata": {},
   "outputs": [],
   "source": [
    "M = Matrix([\n",
    "    [3 - 3*x + 5*y, 8*y],\n",
    "    [8*y, 3 - 3*x + 5*y]\n",
    "])"
   ]
  },
  {
   "cell_type": "code",
   "execution_count": 56,
   "metadata": {},
   "outputs": [
    {
     "data": {
      "image/png": "[encoded data removed]",
      "text/latex": [
       "$$\\left[\\begin{matrix}- 3 x + 5 y + 3 & 8 y\\\\8 y & - 3 x + 5 y + 3\\end{matrix}\\right]$$"
      ],
      "text/plain": [
       "⎡-3⋅x + 5⋅y + 3       8⋅y      ⎤\n",
       "⎢                              ⎥\n",
       "⎣     8⋅y        -3⋅x + 5⋅y + 3⎦"
      ]
     },
     "execution_count": 56,
     "metadata": {},
     "output_type": "execute_result"
    }
   ],
   "source": [
    "M"
   ]
  },
  {
   "cell_type": "code",
   "execution_count": 57,
   "metadata": {},
   "outputs": [
    {
     "data": {
      "image/png": "[encoded data removed]",
      "text/latex": [
       "$$\\left \\{ - 3 x - 3 y + 3 : 1, \\quad - 3 x + 13 y + 3 : 1\\right \\}$$"
      ],
      "text/plain": [
       "{-3⋅x - 3⋅y + 3: 1, -3⋅x + 13⋅y + 3: 1}"
      ]
     },
     "execution_count": 57,
     "metadata": {},
     "output_type": "execute_result"
    }
   ],
   "source": [
    "M.eigenvals()"
   ]
  },
  {
   "cell_type": "code",
   "execution_count": 67,
   "metadata": {},
   "outputs": [],
   "source": [
    "M = Matrix([\n",
    "    [3 - 3*x + 5*y, 9*x],\n",
    "    [9*x, 3 - 3*x - 3*y]\n",
    "])"
   ]
  },
  {
   "cell_type": "code",
   "execution_count": 68,
   "metadata": {},
   "outputs": [
    {
     "data": {
      "image/png": "[encoded data removed]",
      "text/latex": [
       "$$\\left[\\begin{matrix}- 3 x + 5 y + 3 & 9 x\\\\9 x & - 3 x - 3 y + 3\\end{matrix}\\right]$$"
      ],
      "text/plain": [
       "⎡-3⋅x + 5⋅y + 3       9⋅x      ⎤\n",
       "⎢                              ⎥\n",
       "⎣     9⋅x        -3⋅x - 3⋅y + 3⎦"
      ]
     },
     "execution_count": 68,
     "metadata": {},
     "output_type": "execute_result"
    }
   ],
   "source": [
    "M"
   ]
  },
  {
   "cell_type": "code",
   "execution_count": 69,
   "metadata": {},
   "outputs": [
    {
     "data": {
      "image/png": "[encoded data removed]",
      "text/latex": [
       "$$\\left \\{ - 3 x + y - \\sqrt{81 x^{2} + 16 y^{2}} + 3 : 1, \\quad - 3 x + y + \\sqrt{81 x^{2} + 16 y^{2}} + 3 : 1\\right \\}$$"
      ],
      "text/plain": [
       "⎧              _______________                       _______________       ⎫\n",
       "⎨             ╱     2       2                       ╱     2       2        ⎬\n",
       "⎩-3⋅x + y - ╲╱  81⋅x  + 16⋅y   + 3: 1, -3⋅x + y + ╲╱  81⋅x  + 16⋅y   + 3: 1⎭"
      ]
     },
     "execution_count": 69,
     "metadata": {},
     "output_type": "execute_result"
    }
   ],
   "source": [
    "M.eigenvals()"
   ]
  },
  {
   "cell_type": "markdown",
   "metadata": {},
   "source": [
    "# Problem 3"
   ]
  },
  {
   "cell_type": "code",
   "execution_count": 70,
   "metadata": {},
   "outputs": [],
   "source": [
    "p = symbols('p')"
   ]
  },
  {
   "cell_type": "code",
   "execution_count": 111,
   "metadata": {},
   "outputs": [],
   "source": [
    "M = eye(16)\n",
    "for i in range(16):\n",
    "    M[i, i] = p\n",
    "    \n",
    "no = [3, 5, 6, 9]\n",
    "for i in no:\n",
    "    for j in no:\n",
    "        M[i, j] += 4 * (1 - p)\n"
   ]
  },
  {
   "cell_type": "code",
   "execution_count": 112,
   "metadata": {},
   "outputs": [
    {
     "data": {
      "image/png": "[encoded data removed]",
      "text/latex": [
       "$$\\left[\\begin{array}{cccccccccccccccc}p & 0 & 0 & 0 & 0 & 0 & 0 & 0 & 0 & 0 & 0 & 0 & 0 & 0 & 0 & 0\\\\0 & p & 0 & 0 & 0 & 0 & 0 & 0 & 0 & 0 & 0 & 0 & 0 & 0 & 0 & 0\\\\0 & 0 & p & 0 & 0 & 0 & 0 & 0 & 0 & 0 & 0 & 0 & 0 & 0 & 0 & 0\\\\0 & 0 & 0 & - 3 p + 4 & 0 & - 4 p + 4 & - 4 p + 4 & 0 & 0 & - 4 p + 4 & 0 & 0 & 0 & 0 & 0 & 0\\\\0 & 0 & 0 & 0 & p & 0 & 0 & 0 & 0 & 0 & 0 & 0 & 0 & 0 & 0 & 0\\\\0 & 0 & 0 & - 4 p + 4 & 0 & - 3 p + 4 & - 4 p + 4 & 0 & 0 & - 4 p + 4 & 0 & 0 & 0 & 0 & 0 & 0\\\\0 & 0 & 0 & - 4 p + 4 & 0 & - 4 p + 4 & - 3 p + 4 & 0 & 0 & - 4 p + 4 & 0 & 0 & 0 & 0 & 0 & 0\\\\0 & 0 & 0 & 0 & 0 & 0 & 0 & p & 0 & 0 & 0 & 0 & 0 & 0 & 0 & 0\\\\0 & 0 & 0 & 0 & 0 & 0 & 0 & 0 & p & 0 & 0 & 0 & 0 & 0 & 0 & 0\\\\0 & 0 & 0 & - 4 p + 4 & 0 & - 4 p + 4 & - 4 p + 4 & 0 & 0 & - 3 p + 4 & 0 & 0 & 0 & 0 & 0 & 0\\\\0 & 0 & 0 & 0 & 0 & 0 & 0 & 0 & 0 & 0 & p & 0 & 0 & 0 & 0 & 0\\\\0 & 0 & 0 & 0 & 0 & 0 & 0 & 0 & 0 & 0 & 0 & p & 0 & 0 & 0 & 0\\\\0 & 0 & 0 & 0 & 0 & 0 & 0 & 0 & 0 & 0 & 0 & 0 & p & 0 & 0 & 0\\\\0 & 0 & 0 & 0 & 0 & 0 & 0 & 0 & 0 & 0 & 0 & 0 & 0 & p & 0 & 0\\\\0 & 0 & 0 & 0 & 0 & 0 & 0 & 0 & 0 & 0 & 0 & 0 & 0 & 0 & p & 0\\\\0 & 0 & 0 & 0 & 0 & 0 & 0 & 0 & 0 & 0 & 0 & 0 & 0 & 0 & 0 & p\\end{array}\\right]$$"
      ],
      "text/plain": [
       "⎡p  0  0     0      0     0         0      0  0     0      0  0  0  0  0  0⎤\n",
       "⎢                                                                          ⎥\n",
       "⎢0  p  0     0      0     0         0      0  0     0      0  0  0  0  0  0⎥\n",
       "⎢                                                                          ⎥\n",
       "⎢0  0  p     0      0     0         0      0  0     0      0  0  0  0  0  0⎥\n",
       "⎢                                                                          ⎥\n",
       "⎢0  0  0  -3⋅p + 4  0  -4⋅p + 4  -4⋅p + 4  0  0  -4⋅p + 4  0  0  0  0  0  0⎥\n",
       "⎢                                                                          ⎥\n",
       "⎢0  0  0     0      p     0         0      0  0     0      0  0  0  0  0  0⎥\n",
       "⎢                                                                          ⎥\n",
       "⎢0  0  0  -4⋅p + 4  0  -3⋅p + 4  -4⋅p + 4  0  0  -4⋅p + 4  0  0  0  0  0  0⎥\n",
       "⎢                                                                          ⎥\n",
       "⎢0  0  0  -4⋅p + 4  0  -4⋅p + 4  -3⋅p + 4  0  0  -4⋅p + 4  0  0  0  0  0  0⎥\n",
       "⎢                                                                          ⎥\n",
       "⎢0  0  0     0      0     0         0      p  0     0      0  0  0  0  0  0⎥\n",
       "⎢                                                                          ⎥\n",
       "⎢0  0  0     0      0     0         0      0  p     0      0  0  0  0  0  0⎥\n",
       "⎢                                                                          ⎥\n",
       "⎢0  0  0  -4⋅p + 4  0  -4⋅p + 4  -4⋅p + 4  0  0  -3⋅p + 4  0  0  0  0  0  0⎥\n",
       "⎢                                                                          ⎥\n",
       "⎢0  0  0     0      0     0         0      0  0     0      p  0  0  0  0  0⎥\n",
       "⎢                                                                          ⎥\n",
       "⎢0  0  0     0      0     0         0      0  0     0      0  p  0  0  0  0⎥\n",
       "⎢                                                                          ⎥\n",
       "⎢0  0  0     0      0     0         0      0  0     0      0  0  p  0  0  0⎥\n",
       "⎢                                                                          ⎥\n",
       "⎢0  0  0     0      0     0         0      0  0     0      0  0  0  p  0  0⎥\n",
       "⎢                                                                          ⎥\n",
       "⎢0  0  0     0      0     0         0      0  0     0      0  0  0  0  p  0⎥\n",
       "⎢                                                                          ⎥\n",
       "⎣0  0  0     0      0     0         0      0  0     0      0  0  0  0  0  p⎦"
      ]
     },
     "execution_count": 112,
     "metadata": {},
     "output_type": "execute_result"
    }
   ],
   "source": [
    "M"
   ]
  },
  {
   "cell_type": "code",
   "execution_count": null,
   "metadata": {},
   "outputs": [],
   "source": [
    "3 5 6 9"
   ]
  }
 ],
 "metadata": {
  "kernelspec": {
   "display_name": "Python 3",
   "language": "python",
   "name": "python3"
  },
  "language_info": {
   "codemirror_mode": {
    "name": "ipython",
    "version": 3
   },
   "file_extension": ".py",
   "mimetype": "text/x-python",
   "name": "python",
   "nbconvert_exporter": "python",
   "pygments_lexer": "ipython3",
   "version": "3.7.1"
  }
 },
 "nbformat": 4,
 "nbformat_minor": 2
}
