{
 "cells": [
  {
   "cell_type": "markdown",
   "id": "a8e56d70-2033-4e49-9d12-c837722a8026",
   "metadata": {},
   "source": [
    "# Encoding and Decoding"
   ]
  },
  {
   "cell_type": "code",
   "execution_count": 1,
   "id": "3540be68-0f3e-4950-8c72-1d570984bc7c",
   "metadata": {},
   "outputs": [],
   "source": [
    "import random"
   ]
  },
  {
   "cell_type": "code",
   "execution_count": 2,
   "id": "07ebade7-6987-4be3-94f3-be4c199987c6",
   "metadata": {},
   "outputs": [],
   "source": [
    "def encode(string, KEY):\n",
    "    unicode = list(range(0x20, 0x7e))\n",
    "    unicode_shuffle = unicode.copy()\n",
    "    random.seed(KEY)\n",
    "    random.shuffle(unicode_shuffle)\n",
    "    encode_table = dict(zip(unicode, unicode_shuffle))\n",
    "    return string.translate(encode_table)\n",
    "\n",
    "def decode(string, KEY):\n",
    "    unicode = list(range(0x20, 0x7e))\n",
    "    unicode_shuffle = unicode.copy()\n",
    "    random.seed(KEY)\n",
    "    random.shuffle(unicode_shuffle)\n",
    "    decode_table = dict(zip(unicode_shuffle, unicode))\n",
    "    return string.translate(decode_table)"
   ]
  },
  {
   "cell_type": "code",
   "execution_count": 3,
   "id": "304f8b70-3e19-47fb-a0a1-355b5d4f9c8e",
   "metadata": {},
   "outputs": [],
   "source": [
    "test = 'The world is running two years behind schedule to finalize a new global framework on biodiversity conservation. Representatives from almost 200 member states of the United Nations Convention on Biological Diversity were set to meet in Kunming, China, in October 2020. COVID-19 scuppered that plan, and China’s battle against rising cases means that the meeting, tentatively rescheduled for late August or early September, is in doubt. “The longer we wait, the more diversity is lost,” says conservation biologist Alice Hughes.'"
   ]
  },
  {
   "cell_type": "code",
   "execution_count": 4,
   "id": "b71aec0e-5c73-49df-93bc-473643d4a450",
   "metadata": {},
   "outputs": [],
   "source": [
    "test_encoded = encode(test, 'HJZ')"
   ]
  },
  {
   "cell_type": "code",
   "execution_count": 5,
   "id": "4cfab670-955f-4a4c-a1a7-3644d6bb0db4",
   "metadata": {},
   "outputs": [
    {
     "data": {
      "text/plain": [
       "'xR_HKQk&eH62HkJqq6q1HpKQHt_|k2HO_R6qeH2iR_eJ&_HpQH@6q|&6#_H|Hq_KH1&QO|&H@k|L_KQkwHQqHO6Qe60_k26ptHiQq2_k0|p6QqoHv_Wk_2_qp|p60_2H@kQLH|&LQ2pHYNNHL_LO_kH2p|p_2HQ@HpR_HTq6p_eHI|p6Qq2H:Qq0_qp6QqHQqH?6Q&Q16i|&H;60_k26ptHK_k_H2_pHpQHL__pH6qH!JqL6q1hH:R6q|hH6qHjipQO_kHYNYNoH:jcZ;.}BH2iJWW_k_eHpR|pHW&|qhH|qeH:R6q|’2HO|pp&_H|1|6q2pHk626q1Hi|2_2HL_|q2HpR|pHpR_HL__p6q1hHp_qp|p60_&tHk_2iR_eJ&_eH@QkH&|p_H7J1J2pHQkH_|k&tHy_Wp_LO_khH62H6qHeQJOpoH“xR_H&Qq1_kHK_HK|6phHpR_HLQk_He60_k26ptH62H&Q2ph”H2|t2HiQq2_k0|p6QqHO6Q&Q162pH7&6i_H(J1R_2o'"
      ]
     },
     "execution_count": 5,
     "metadata": {},
     "output_type": "execute_result"
    }
   ],
   "source": [
    "test_encoded"
   ]
  },
  {
   "cell_type": "code",
   "execution_count": 6,
   "id": "3c95131f-92b1-4887-824d-c01edf1d806e",
   "metadata": {},
   "outputs": [
    {
     "data": {
      "text/plain": [
       "'The world is running two years behind schedule to finalize a new global framework on biodiversity conservation. Representatives from almost 200 member states of the United Nations Convention on Biological Diversity were set to meet in Kunming, China, in October 2020. COVID-19 scuppered that plan, and China’s battle against rising cases means that the meeting, tentatively rescheduled for late August or early September, is in doubt. “The longer we wait, the more diversity is lost,” says conservation biologist Alice Hughes.'"
      ]
     },
     "execution_count": 6,
     "metadata": {},
     "output_type": "execute_result"
    }
   ],
   "source": [
    "decode(test_encoded, 'HJZ')"
   ]
  },
  {
   "cell_type": "code",
   "execution_count": 12,
   "id": "19a501ad-9311-420f-a319-473b9b1d0f84",
   "metadata": {},
   "outputs": [],
   "source": [
    "string_converted = ''\n",
    "for a in test:\n",
    "    if random.random() > 0.5:\n",
    "        b = a.upper()\n",
    "    else:\n",
    "        b = a.lower()\n",
    "    string_converted += b"
   ]
  },
  {
   "cell_type": "code",
   "execution_count": 13,
   "id": "ac7368b8-5c52-4244-bf76-a6b1872c088d",
   "metadata": {},
   "outputs": [
    {
     "data": {
      "text/plain": [
       "'THE worLD is RuNNiNg TWO yEARs BEHIND scHeDuLe TO finALIze A New gLObal fRaMeWorK on BiODIversItY COnSeRVAtIOn. reprESENTatIVeS FROM aLMOst 200 MEmber sTates of tHe UNITed nAtioNs CONVeNtIOn on biOlOGicAL diveRSITy WerE set To MEEt in kUnMiNg, cHiNA, iN OcTobeR 2020. COVid-19 SCuPPEReD THAt PlAn, AnD cHINa’s BaTtLe AgaiNSt RisInG CAses MEAnS tHaT THE MeeTIng, TENtAtiVELY rESCHeduLeD foR LATe AUgUsT OR EArLy sEPtEMBER, IS IN doubT. “ThE lOngeR WE wAIt, tHe mOre diveRSItY is LoSt,” sAyS coNSeRVaTiON BIologIsT AlICe HuGHeS.'"
      ]
     },
     "execution_count": 13,
     "metadata": {},
     "output_type": "execute_result"
    }
   ],
   "source": [
    "string_converted"
   ]
  }
 ],
 "metadata": {
  "kernelspec": {
   "display_name": "Python 3 (ipykernel)",
   "language": "python",
   "name": "python3"
  },
  "language_info": {
   "codemirror_mode": {
    "name": "ipython",
    "version": 3
   },
   "file_extension": ".py",
   "mimetype": "text/x-python",
   "name": "python",
   "nbconvert_exporter": "python",
   "pygments_lexer": "ipython3",
   "version": "3.7.11"
  }
 },
 "nbformat": 4,
 "nbformat_minor": 5
}
