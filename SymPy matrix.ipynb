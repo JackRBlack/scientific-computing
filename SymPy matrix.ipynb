{
 "cells": [
  {
   "cell_type": "code",
   "execution_count": 1,
   "metadata": {},
   "outputs": [],
   "source": [
    "import numpy as np\n",
    "from sympy import *\n",
    "init_printing(use_unicode = True)"
   ]
  },
  {
   "cell_type": "code",
   "execution_count": 25,
   "metadata": {},
   "outputs": [],
   "source": [
    "from sympy.physics.quantum.dagger import Dagger\n",
    "from sympy.physics.quantum import TensorProduct\n",
    "from sympy.physics.quantum import Commutator"
   ]
  },
  {
   "cell_type": "markdown",
   "metadata": {},
   "source": [
    "# Definitions and Functions"
   ]
  },
  {
   "cell_type": "code",
   "execution_count": 34,
   "metadata": {},
   "outputs": [],
   "source": [
    "# Pauli matrices\n",
    "\n",
    "sigma_0 = Matrix([\n",
    "    [1, 0],\n",
    "    [0, 1]\n",
    "])\n",
    "\n",
    "sigma_x = Matrix([\n",
    "    [0, 1],\n",
    "    [1, 0]\n",
    "])\n",
    "\n",
    "sigma_y = Matrix([\n",
    "    [ 0, -1j],\n",
    "    [1j,   0]\n",
    "])\n",
    "\n",
    "sigma_z = Matrix([\n",
    "    [1,  0],\n",
    "    [0, -1]\n",
    "])"
   ]
  },
  {
   "cell_type": "code",
   "execution_count": 27,
   "metadata": {},
   "outputs": [],
   "source": [
    "# Commutator for matrices\n",
    "\n",
    "def MatrixCommutator(A, B):\n",
    "    return A*B - B*A"
   ]
  },
  {
   "cell_type": "markdown",
   "metadata": {},
   "source": [
    "# Usage"
   ]
  },
  {
   "cell_type": "code",
   "execution_count": null,
   "metadata": {},
   "outputs": [],
   "source": [
    "# TensorProduct(A, B)"
   ]
  },
  {
   "cell_type": "markdown",
   "metadata": {},
   "source": [
    "# Playground"
   ]
  },
  {
   "cell_type": "code",
   "execution_count": 29,
   "metadata": {},
   "outputs": [],
   "source": [
    "a, b, c = symbols('a b c')"
   ]
  },
  {
   "cell_type": "code",
   "execution_count": 35,
   "metadata": {},
   "outputs": [],
   "source": [
    "H = a * TensorProduct(sigma_z, sigma_x) + b * TensorProduct(sigma_z, sigma_y) + c * TensorProduct(sigma_x, sigma_0)"
   ]
  },
  {
   "cell_type": "code",
   "execution_count": 36,
   "metadata": {},
   "outputs": [
    {
     "data": {
      "image/png": "[encoded data removed]",
      "text/latex": [
       "$$\\left[\\begin{matrix}0 & a - 1.0 i b & c & 0\\\\a + 1.0 i b & 0 & 0 & c\\\\c & 0 & 0 & - a + 1.0 i b\\\\0 & c & - a - 1.0 i b & 0\\end{matrix}\\right]$$"
      ],
      "text/plain": [
       "⎡     0       a - 1.0⋅ⅈ⋅b       c             0      ⎤\n",
       "⎢                                                    ⎥\n",
       "⎢a + 1.0⋅ⅈ⋅b       0            0             c      ⎥\n",
       "⎢                                                    ⎥\n",
       "⎢     c            0            0        -a + 1.0⋅ⅈ⋅b⎥\n",
       "⎢                                                    ⎥\n",
       "⎣     0            c       -a - 1.0⋅ⅈ⋅b       0      ⎦"
      ]
     },
     "execution_count": 36,
     "metadata": {},
     "output_type": "execute_result"
    }
   ],
   "source": [
    "H"
   ]
  },
  {
   "cell_type": "code",
   "execution_count": 47,
   "metadata": {},
   "outputs": [],
   "source": [
    "BOX = H.eigenvects()"
   ]
  },
  {
   "cell_type": "code",
   "execution_count": 49,
   "metadata": {},
   "outputs": [
    {
     "data": {
      "image/png": "[encoded data removed]",
      "text/latex": [
       "$$\\left [ \\left ( - \\left(a^{2} + b^{2} + c^{2}\\right)^{0.5}, \\quad 2, \\quad \\left [ \\left[\\begin{matrix}- \\frac{c \\left(a - i b\\right) \\left(a + i b\\right) + c \\left(a^{2} + b^{2} + c^{2} - \\left(a - i b\\right) \\left(a + i b\\right)\\right)}{\\left(a^{2} + b^{2} + c^{2}\\right)^{0.5} \\left(a^{2} + b^{2} + c^{2} - \\left(a - i b\\right) \\left(a + i b\\right)\\right)}\\\\\\frac{c \\left(a + i b\\right)}{a^{2} + b^{2} + c^{2} - \\left(a - i b\\right) \\left(a + i b\\right)}\\\\1.0\\\\0\\end{matrix}\\right], \\quad \\left[\\begin{matrix}\\frac{c \\left(a - i b\\right)}{a^{2} + b^{2} + c^{2} - \\left(a - i b\\right) \\left(a + i b\\right)}\\\\- \\frac{c \\left(a^{2} + b^{2} + c^{2}\\right)^{0.5}}{a^{2} + b^{2} + c^{2} - \\left(a - i b\\right) \\left(a + i b\\right)}\\\\0\\\\1.0\\end{matrix}\\right]\\right ]\\right ), \\quad \\left ( \\left(a^{2} + b^{2} + c^{2}\\right)^{0.5}, \\quad 2, \\quad \\left [ \\left[\\begin{matrix}\\frac{c \\left(a - i b\\right) \\left(a + i b\\right) + c \\left(a^{2} + b^{2} + c^{2} - \\left(a - i b\\right) \\left(a + i b\\right)\\right)}{\\left(a^{2} + b^{2} + c^{2}\\right)^{0.5} \\left(a^{2} + b^{2} + c^{2} - \\left(a - i b\\right) \\left(a + i b\\right)\\right)}\\\\\\frac{c \\left(a + i b\\right)}{a^{2} + b^{2} + c^{2} - \\left(a - i b\\right) \\left(a + i b\\right)}\\\\1.0\\\\0\\end{matrix}\\right], \\quad \\left[\\begin{matrix}\\frac{c \\left(a - i b\\right)}{a^{2} + b^{2} + c^{2} - \\left(a - i b\\right) \\left(a + i b\\right)}\\\\\\frac{c \\left(a^{2} + b^{2} + c^{2}\\right)^{0.5}}{a^{2} + b^{2} + c^{2} - \\left(a - i b\\right) \\left(a + i b\\right)}\\\\0\\\\1.0\\end{matrix}\\right]\\right ]\\right )\\right ]$$"
      ],
      "text/plain": [
       "⎡⎛                       ⎡⎡                                                   \n",
       "⎢⎜                       ⎢⎢ ⎛                          ⎛ 2    2    2          \n",
       "⎢⎜                       ⎢⎢-⎝c⋅(a - ⅈ⋅b)⋅(a + ⅈ⋅b) + c⋅⎝a  + b  + c  - (a - ⅈ⋅\n",
       "⎢⎜                       ⎢⎢───────────────────────────────────────────────────\n",
       "⎢⎜                       ⎢⎢                           2    2    2             \n",
       "⎢⎜               0.5     ⎢⎢                          a  + b  + c  - (a - ⅈ⋅b)⋅\n",
       "⎢⎜ ⎛ 2    2    2⎞        ⎢⎢                                                   \n",
       "⎢⎜-⎝a  + b  + c ⎠   , 2, ⎢⎢                                    c⋅(a + ⅈ⋅b)    \n",
       "⎢⎜                       ⎢⎢                         ──────────────────────────\n",
       "⎢⎜                       ⎢⎢                          2    2    2              \n",
       "⎢⎜                       ⎢⎢                         a  + b  + c  - (a - ⅈ⋅b)⋅(\n",
       "⎢⎜                       ⎢⎢                                                   \n",
       "⎢⎜                       ⎢⎢                                         1.0       \n",
       "⎢⎜                       ⎢⎢                                                   \n",
       "⎣⎝                       ⎣⎣                                          0        \n",
       "\n",
       "                             -0.5 ⎤  ⎡           c⋅(a - ⅈ⋅b)            ⎤⎤⎞  ⎛\n",
       "            ⎞⎞ ⎛ 2    2    2⎞     ⎥  ⎢──────────────────────────────────⎥⎥⎟  ⎜\n",
       "b)⋅(a + ⅈ⋅b)⎠⎠⋅⎝a  + b  + c ⎠     ⎥  ⎢ 2    2    2                      ⎥⎥⎟  ⎜\n",
       "──────────────────────────────────⎥  ⎢a  + b  + c  - (a - ⅈ⋅b)⋅(a + ⅈ⋅b)⎥⎥⎟  ⎜\n",
       "                                  ⎥  ⎢                                  ⎥⎥⎟  ⎜\n",
       "(a + ⅈ⋅b)                         ⎥  ⎢                       0.5        ⎥⎥⎟  ⎜\n",
       "                                  ⎥  ⎢         ⎛ 2    2    2⎞           ⎥⎥⎟  ⎜\n",
       "                                  ⎥, ⎢      -c⋅⎝a  + b  + c ⎠           ⎥⎥⎟, ⎜\n",
       "────────                          ⎥  ⎢──────────────────────────────────⎥⎥⎟  ⎜\n",
       "                                  ⎥  ⎢ 2    2    2                      ⎥⎥⎟  ⎜\n",
       "a + ⅈ⋅b)                          ⎥  ⎢a  + b  + c  - (a - ⅈ⋅b)⋅(a + ⅈ⋅b)⎥⎥⎟  ⎜\n",
       "                                  ⎥  ⎢                                  ⎥⎥⎟  ⎜\n",
       "                                  ⎥  ⎢                0                 ⎥⎥⎟  ⎜\n",
       "                                  ⎥  ⎢                                  ⎥⎥⎟  ⎜\n",
       "                                  ⎦  ⎣               1.0                ⎦⎦⎠  ⎝\n",
       "\n",
       "                      ⎡⎡                                                      \n",
       "                      ⎢⎢⎛                          ⎛ 2    2    2              \n",
       "                      ⎢⎢⎝c⋅(a - ⅈ⋅b)⋅(a + ⅈ⋅b) + c⋅⎝a  + b  + c  - (a - ⅈ⋅b)⋅(\n",
       "                      ⎢⎢──────────────────────────────────────────────────────\n",
       "                      ⎢⎢                          2    2    2                 \n",
       "              0.5     ⎢⎢                         a  + b  + c  - (a - ⅈ⋅b)⋅(a +\n",
       "⎛ 2    2    2⎞        ⎢⎢                                                      \n",
       "⎝a  + b  + c ⎠   , 2, ⎢⎢                                   c⋅(a + ⅈ⋅b)        \n",
       "                      ⎢⎢                        ──────────────────────────────\n",
       "                      ⎢⎢                         2    2    2                  \n",
       "                      ⎢⎢                        a  + b  + c  - (a - ⅈ⋅b)⋅(a + \n",
       "                      ⎢⎢                                                      \n",
       "                      ⎢⎢                                        1.0           \n",
       "                      ⎢⎢                                                      \n",
       "                      ⎣⎣                                         0            \n",
       "\n",
       "                         -0.5⎤  ⎡           c⋅(a - ⅈ⋅b)            ⎤⎤⎞⎤\n",
       "        ⎞⎞ ⎛ 2    2    2⎞    ⎥  ⎢──────────────────────────────────⎥⎥⎟⎥\n",
       "a + ⅈ⋅b)⎠⎠⋅⎝a  + b  + c ⎠    ⎥  ⎢ 2    2    2                      ⎥⎥⎟⎥\n",
       "─────────────────────────────⎥  ⎢a  + b  + c  - (a - ⅈ⋅b)⋅(a + ⅈ⋅b)⎥⎥⎟⎥\n",
       "                             ⎥  ⎢                                  ⎥⎥⎟⎥\n",
       " ⅈ⋅b)                        ⎥  ⎢                       0.5        ⎥⎥⎟⎥\n",
       "                             ⎥  ⎢         ⎛ 2    2    2⎞           ⎥⎥⎟⎥\n",
       "                             ⎥, ⎢       c⋅⎝a  + b  + c ⎠           ⎥⎥⎟⎥\n",
       "────                         ⎥  ⎢──────────────────────────────────⎥⎥⎟⎥\n",
       "                             ⎥  ⎢ 2    2    2                      ⎥⎥⎟⎥\n",
       "ⅈ⋅b)                         ⎥  ⎢a  + b  + c  - (a - ⅈ⋅b)⋅(a + ⅈ⋅b)⎥⎥⎟⎥\n",
       "                             ⎥  ⎢                                  ⎥⎥⎟⎥\n",
       "                             ⎥  ⎢                0                 ⎥⎥⎟⎥\n",
       "                             ⎥  ⎢                                  ⎥⎥⎟⎥\n",
       "                             ⎦  ⎣               1.0                ⎦⎦⎠⎦"
      ]
     },
     "execution_count": 49,
     "metadata": {},
     "output_type": "execute_result"
    }
   ],
   "source": [
    "BOX"
   ]
  },
  {
   "cell_type": "code",
   "execution_count": 51,
   "metadata": {},
   "outputs": [],
   "source": [
    "a = simplify(BOX[0][2][0])"
   ]
  },
  {
   "cell_type": "code",
   "execution_count": 58,
   "metadata": {},
   "outputs": [
    {
     "data": {
      "image/png": "[encoded data removed]",
      "text/latex": [
       "$$\\left[\\begin{matrix}- \\frac{\\left(a^{2} + b^{2} + c^{2}\\right)^{0.5}}{c}\\\\\\frac{a + i b}{c}\\\\1.0\\\\0\\end{matrix}\\right]$$"
      ],
      "text/plain": [
       "⎡               0.5 ⎤\n",
       "⎢ ⎛ 2    2    2⎞    ⎥\n",
       "⎢-⎝a  + b  + c ⎠    ⎥\n",
       "⎢───────────────────⎥\n",
       "⎢         c         ⎥\n",
       "⎢                   ⎥\n",
       "⎢      a + ⅈ⋅b      ⎥\n",
       "⎢      ───────      ⎥\n",
       "⎢         c         ⎥\n",
       "⎢                   ⎥\n",
       "⎢        1.0        ⎥\n",
       "⎢                   ⎥\n",
       "⎣         0         ⎦"
      ]
     },
     "execution_count": 58,
     "metadata": {},
     "output_type": "execute_result"
    }
   ],
   "source": [
    "a"
   ]
  },
  {
   "cell_type": "code",
   "execution_count": 59,
   "metadata": {},
   "outputs": [
    {
     "data": {
      "image/png": "[encoded data removed]",
      "text/latex": [
       "$$\\left[\\begin{matrix}1.0\\\\0\\\\- \\frac{\\left(a^{2} + b^{2} + c^{2}\\right)^{0.5}}{c}\\\\\\frac{a + i b}{c}\\end{matrix}\\right]$$"
      ],
      "text/plain": [
       "⎡        1.0        ⎤\n",
       "⎢                   ⎥\n",
       "⎢         0         ⎥\n",
       "⎢                   ⎥\n",
       "⎢               0.5 ⎥\n",
       "⎢ ⎛ 2    2    2⎞    ⎥\n",
       "⎢-⎝a  + b  + c ⎠    ⎥\n",
       "⎢───────────────────⎥\n",
       "⎢         c         ⎥\n",
       "⎢                   ⎥\n",
       "⎢      a + ⅈ⋅b      ⎥\n",
       "⎢      ───────      ⎥\n",
       "⎣         c         ⎦"
      ]
     },
     "execution_count": 59,
     "metadata": {},
     "output_type": "execute_result"
    }
   ],
   "source": [
    "TensorProduct(sigma_x, sigma_0) * a"
   ]
  },
  {
   "cell_type": "code",
   "execution_count": 57,
   "metadata": {},
   "outputs": [
    {
     "data": {
      "image/png": "[encoded data removed]",
      "text/latex": [
       "$$\\left[\\begin{matrix}- \\frac{1.0 \\overline{\\left(a^{2} + b^{2} + c^{2}\\right)^{0.5}}}{\\overline{c}} - \\frac{1.0 \\left(a^{2} + b^{2} + c^{2}\\right)^{0.5}}{c}\\end{matrix}\\right]$$"
      ],
      "text/plain": [
       "⎡      _________________                        ⎤\n",
       "⎢                    0.5                     0.5⎥\n",
       "⎢      ⎛ 2    2    2⎞          ⎛ 2    2    2⎞   ⎥\n",
       "⎢  1.0⋅⎝a  + b  + c ⎠      1.0⋅⎝a  + b  + c ⎠   ⎥\n",
       "⎢- ───────────────────── - ─────────────────────⎥\n",
       "⎢            _                       c          ⎥\n",
       "⎣            c                                  ⎦"
      ]
     },
     "execution_count": 57,
     "metadata": {},
     "output_type": "execute_result"
    }
   ],
   "source": [
    "Dagger(a) * TensorProduct(sigma_x, sigma_0) * a"
   ]
  },
  {
   "cell_type": "code",
   "execution_count": 50,
   "metadata": {},
   "outputs": [
    {
     "data": {
      "image/png": "[encoded data removed]",
      "text/latex": [
       "$$\\left[\\begin{matrix}\\frac{a - i b}{c}\\\\- \\frac{\\left(a^{2} + b^{2} + c^{2}\\right)^{0.5}}{c}\\\\0\\\\1.0\\end{matrix}\\right]$$"
      ],
      "text/plain": [
       "⎡      a - ⅈ⋅b      ⎤\n",
       "⎢      ───────      ⎥\n",
       "⎢         c         ⎥\n",
       "⎢                   ⎥\n",
       "⎢               0.5 ⎥\n",
       "⎢ ⎛ 2    2    2⎞    ⎥\n",
       "⎢-⎝a  + b  + c ⎠    ⎥\n",
       "⎢───────────────────⎥\n",
       "⎢         c         ⎥\n",
       "⎢                   ⎥\n",
       "⎢         0         ⎥\n",
       "⎢                   ⎥\n",
       "⎣        1.0        ⎦"
      ]
     },
     "execution_count": 50,
     "metadata": {},
     "output_type": "execute_result"
    }
   ],
   "source": [
    "simplify(BOX[0][2][1])"
   ]
  },
  {
   "cell_type": "code",
   "execution_count": 54,
   "metadata": {},
   "outputs": [
    {
     "data": {
      "image/png": "[encoded data removed]",
      "text/latex": [
       "$$\\left[\\begin{matrix}\\frac{1.0 c \\overline{c} + \\left(a + i b\\right) \\left(\\overline{a} - i \\overline{b}\\right) + \\left(a^{2} + b^{2} + c^{2}\\right)^{0.5} \\overline{\\left(a^{2} + b^{2} + c^{2}\\right)^{0.5}}}{c \\overline{c}}\\end{matrix}\\right]$$"
      ],
      "text/plain": [
       "⎡                                                  _________________⎤\n",
       "⎢                                              0.5               0.5⎥\n",
       "⎢      _             ⎛_     _⎞   ⎛ 2    2    2⎞    ⎛ 2    2    2⎞   ⎥\n",
       "⎢1.0⋅c⋅c + (a + ⅈ⋅b)⋅⎝a - ⅈ⋅b⎠ + ⎝a  + b  + c ⎠   ⋅⎝a  + b  + c ⎠   ⎥\n",
       "⎢───────────────────────────────────────────────────────────────────⎥\n",
       "⎢                                  _                                ⎥\n",
       "⎣                                c⋅c                                ⎦"
      ]
     },
     "execution_count": 54,
     "metadata": {},
     "output_type": "execute_result"
    }
   ],
   "source": [
    "simplify(Dagger(a) * a)"
   ]
  },
  {
   "cell_type": "code",
   "execution_count": 37,
   "metadata": {},
   "outputs": [
    {
     "data": {
      "image/png": "[encoded data removed]",
      "text/latex": [
       "$$\\left \\{ - \\sqrt{a^{2} + b^{2} + c^{2}} : 2, \\quad \\sqrt{a^{2} + b^{2} + c^{2}} : 2\\right \\}$$"
      ],
      "text/plain": [
       "⎧    ______________        ______________   ⎫\n",
       "⎨   ╱  2    2    2        ╱  2    2    2    ⎬\n",
       "⎩-╲╱  a  + b  + c  : 2, ╲╱  a  + b  + c  : 2⎭"
      ]
     },
     "execution_count": 37,
     "metadata": {},
     "output_type": "execute_result"
    }
   ],
   "source": [
    "H.eigenvals()"
   ]
  },
  {
   "cell_type": "code",
   "execution_count": 18,
   "metadata": {},
   "outputs": [
    {
     "data": {
      "image/png": "[encoded data removed]",
      "text/latex": [
       "$$\\left[\\begin{matrix}1.0 i & 0\\\\0 & - 1.0 i\\end{matrix}\\right]$$"
      ],
      "text/plain": [
       "⎡1.0⋅ⅈ    0   ⎤\n",
       "⎢             ⎥\n",
       "⎣  0    -1.0⋅ⅈ⎦"
      ]
     },
     "execution_count": 18,
     "metadata": {},
     "output_type": "execute_result"
    }
   ],
   "source": [
    "sigma_x * sigma_y"
   ]
  },
  {
   "cell_type": "code",
   "execution_count": 24,
   "metadata": {},
   "outputs": [
    {
     "data": {
      "image/png": "[encoded data removed]",
      "text/latex": [
       "$$\\left[\\begin{matrix}0 & 0 & 0 & - 1.0 i\\\\0 & 0 & 1.0 i & 0\\\\0 & - 1.0 i & 0 & 0\\\\1.0 i & 0 & 0 & 0\\end{matrix}\\right]$$"
      ],
      "text/plain": [
       "⎡  0      0       0    -1.0⋅ⅈ⎤\n",
       "⎢                            ⎥\n",
       "⎢  0      0     1.0⋅ⅈ    0   ⎥\n",
       "⎢                            ⎥\n",
       "⎢  0    -1.0⋅ⅈ    0      0   ⎥\n",
       "⎢                            ⎥\n",
       "⎣1.0⋅ⅈ    0       0      0   ⎦"
      ]
     },
     "execution_count": 24,
     "metadata": {},
     "output_type": "execute_result"
    }
   ],
   "source": [
    "TensorProduct(sigma_x, sigma_y)"
   ]
  },
  {
   "cell_type": "code",
   "execution_count": 28,
   "metadata": {},
   "outputs": [
    {
     "data": {
      "image/png": "[encoded data removed]",
      "text/latex": [
       "$$\\left[\\begin{matrix}2.0 i & 0\\\\0 & - 2.0 i\\end{matrix}\\right]$$"
      ],
      "text/plain": [
       "⎡2.0⋅ⅈ    0   ⎤\n",
       "⎢             ⎥\n",
       "⎣  0    -2.0⋅ⅈ⎦"
      ]
     },
     "execution_count": 28,
     "metadata": {},
     "output_type": "execute_result"
    }
   ],
   "source": [
    "MatrixCommutator(sigma_x, sigma_y)"
   ]
  },
  {
   "cell_type": "code",
   "execution_count": 2,
   "metadata": {},
   "outputs": [],
   "source": [
    "u, v, E, D = symbols('u v E D')"
   ]
  },
  {
   "cell_type": "code",
   "execution_count": 8,
   "metadata": {},
   "outputs": [],
   "source": [
    "U = Matrix([\n",
    "    [u, -v],\n",
    "    [conjugate(v), conjugate(u)]\n",
    "])"
   ]
  },
  {
   "cell_type": "code",
   "execution_count": 12,
   "metadata": {},
   "outputs": [],
   "source": [
    "H = Matrix([\n",
    "    [E, -D],\n",
    "    [-conjugate(D), -E]\n",
    "])"
   ]
  },
  {
   "cell_type": "code",
   "execution_count": 9,
   "metadata": {},
   "outputs": [
    {
     "data": {
      "image/png": "[encoded data removed]",
      "text/latex": [
       "$$\\left[\\begin{matrix}u & - v\\\\\\overline{v} & \\overline{u}\\end{matrix}\\right]$$"
      ],
      "text/plain": [
       "⎡u  -v⎤\n",
       "⎢     ⎥\n",
       "⎢_  _ ⎥\n",
       "⎣v  u ⎦"
      ]
     },
     "execution_count": 9,
     "metadata": {},
     "output_type": "execute_result"
    }
   ],
   "source": [
    "U"
   ]
  },
  {
   "cell_type": "code",
   "execution_count": 10,
   "metadata": {},
   "outputs": [
    {
     "data": {
      "image/png": "[encoded data removed]",
      "text/latex": [
       "$$\\left[\\begin{matrix}\\overline{u} & v\\\\- \\overline{v} & u\\end{matrix}\\right]$$"
      ],
      "text/plain": [
       "⎡_    ⎤\n",
       "⎢u   v⎥\n",
       "⎢     ⎥\n",
       "⎢ _   ⎥\n",
       "⎣-v  u⎦"
      ]
     },
     "execution_count": 10,
     "metadata": {},
     "output_type": "execute_result"
    }
   ],
   "source": [
    "Dagger(U)"
   ]
  },
  {
   "cell_type": "code",
   "execution_count": 13,
   "metadata": {},
   "outputs": [
    {
     "data": {
      "image/png": "[encoded data removed]",
      "text/latex": [
       "$$\\left[\\begin{matrix}E & - D\\\\- \\overline{D} & - E\\end{matrix}\\right]$$"
      ],
      "text/plain": [
       "⎡E   -D⎤\n",
       "⎢      ⎥\n",
       "⎢ _    ⎥\n",
       "⎣-D  -E⎦"
      ]
     },
     "execution_count": 13,
     "metadata": {},
     "output_type": "execute_result"
    }
   ],
   "source": [
    "H"
   ]
  },
  {
   "cell_type": "code",
   "execution_count": 14,
   "metadata": {},
   "outputs": [
    {
     "data": {
      "image/png": "[encoded data removed]",
      "text/latex": [
       "$$\\left[\\begin{matrix}u \\left(E \\overline{u} - v \\overline{D}\\right) + \\left(- D \\overline{u} - E v\\right) \\overline{v} & - v \\left(E \\overline{u} - v \\overline{D}\\right) + \\left(- D \\overline{u} - E v\\right) \\overline{u}\\\\u \\left(- E \\overline{v} - u \\overline{D}\\right) + \\left(D \\overline{v} - E u\\right) \\overline{v} & - v \\left(- E \\overline{v} - u \\overline{D}\\right) + \\left(D \\overline{v} - E u\\right) \\overline{u}\\end{matrix}\\right]$$"
      ],
      "text/plain": [
       "⎡  ⎛  _     _⎞   ⎛    _      ⎞ _      ⎛  _     _⎞   ⎛    _      ⎞ _⎤\n",
       "⎢u⋅⎝E⋅u - v⋅D⎠ + ⎝- D⋅u - E⋅v⎠⋅v  - v⋅⎝E⋅u - v⋅D⎠ + ⎝- D⋅u - E⋅v⎠⋅u⎥\n",
       "⎢                                                                  ⎥\n",
       "⎢  ⎛    _     _⎞   ⎛  _      ⎞ _      ⎛    _     _⎞   ⎛  _      ⎞ _⎥\n",
       "⎣u⋅⎝- E⋅v - u⋅D⎠ + ⎝D⋅v - E⋅u⎠⋅v  - v⋅⎝- E⋅v - u⋅D⎠ + ⎝D⋅v - E⋅u⎠⋅u⎦"
      ]
     },
     "execution_count": 14,
     "metadata": {},
     "output_type": "execute_result"
    }
   ],
   "source": [
    "Dagger(U) * H * U"
   ]
  },
  {
   "cell_type": "code",
   "execution_count": 16,
   "metadata": {},
   "outputs": [
    {
     "data": {
      "image/png": "[encoded data removed]",
      "text/latex": [
       "$$- 1.0 i$$"
      ],
      "text/plain": [
       "-1.0⋅ⅈ"
      ]
     },
     "execution_count": 16,
     "metadata": {},
     "output_type": "execute_result"
    }
   ],
   "source": [
    "conjugate(1j)"
   ]
  },
  {
   "cell_type": "code",
   "execution_count": null,
   "metadata": {},
   "outputs": [],
   "source": []
  }
 ],
 "metadata": {
  "kernelspec": {
   "display_name": "Python 3",
   "language": "python",
   "name": "python3"
  },
  "language_info": {
   "codemirror_mode": {
    "name": "ipython",
    "version": 3
   },
   "file_extension": ".py",
   "mimetype": "text/x-python",
   "name": "python",
   "nbconvert_exporter": "python",
   "pygments_lexer": "ipython3",
   "version": "3.7.1"
  }
 },
 "nbformat": 4,
 "nbformat_minor": 2
}
