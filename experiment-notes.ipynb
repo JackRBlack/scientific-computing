{
 "cells": [
  {
   "cell_type": "code",
   "execution_count": 1,
   "metadata": {
    "collapsed": true
   },
   "outputs": [],
   "source": [
    "import numpy as np\n",
    "import matplotlib.pyplot as plt"
   ]
  },
  {
   "cell_type": "markdown",
   "metadata": {},
   "source": [
    "## codes"
   ]
  },
  {
   "cell_type": "code",
   "execution_count": 2,
   "metadata": {
    "collapsed": true
   },
   "outputs": [],
   "source": [
    "def heating_curve(time_series, temperature_series, TIME_UNIT):\n",
    "    '''\n",
    "        Plot the heating curve.\n",
    "        \n",
    "        Author: Wenjie Chen \n",
    "        E-mail: wenjiechen@pku.edu.cn\n",
    "        \n",
    "        args:\n",
    "            time_series : [numpy.array] A serie of time in minutes.\n",
    "            temperature_series : [numpy.array] A serie of time in Celsius.\n",
    "            TIME_UNIT : [string] Either 'h' or 'min', change the unit of time axis.\n",
    "            \n",
    "        returns:\n",
    "            A figure.\n",
    "            \n",
    "        example:\n",
    "            heating_curve(t_series, T_series, 'h')\n",
    "    '''\n",
    "    # data preparation\n",
    "    t_series = time_series.copy()\n",
    "    T_series = temperature_series.copy()\n",
    "    for i in range(len(t_series) - 1):\n",
    "        t_series[i + 1] = t_series[i + 1] + t_series[i]\n",
    "    scale = {'min' : 1, 'h' : 60}\n",
    "    t_series = t_series / scale[TIME_UNIT]\n",
    "    t_series_str = tuple([str(t) for t in t_series])\n",
    "    T_series_str = tuple([str(T) for T in T_series])\n",
    "    \n",
    "    plt.figure(figsize = (10, 5))\n",
    "    \n",
    "    # plot the reference line\n",
    "    T_pool = [] # check if the horizental line has already been plot\n",
    "    for i in range(len(t_series) - 2):\n",
    "        plt.plot([t_series[i + 1], t_series[i + 1]], [T_series[i + 1], min(T_series)], 'k--')\n",
    "        if T_series[i + 1] in T_pool:\n",
    "            continue\n",
    "        else:\n",
    "            plt.plot([t_series[i + 1], min(t_series)], [T_series[i + 1], T_series[i + 1]], 'k--')\n",
    "            T_pool.append(T_series[i + 1])\n",
    "        \n",
    "    # plot the curve\n",
    "    plt.plot(t_series, T_series, 'k', linewidth = 3)\n",
    "\n",
    "    # set up the axis\n",
    "    plt.xticks(t_series, t_series_str)\n",
    "    plt.yticks(T_series, T_series_str)\n",
    "    plt.xlim(min(t_series), max(t_series))\n",
    "    plt.ylim(bottom = min(T_series))\n",
    "    plt.xlabel('time / ' + TIME_UNIT)\n",
    "    plt.ylabel('temperature / $^\\circ$C')\n",
    "    plt.title('Heating Curve')\n",
    "    plt.show()\n",
    "    return"
   ]
  },
  {
   "cell_type": "code",
   "execution_count": 26,
   "metadata": {
    "collapsed": true
   },
   "outputs": [],
   "source": [
    "def reaction_substances_mass(molar_mass, molar_ratio, mass_needed):\n",
    "    '''\n",
    "        Calculate the needed substantces' masses for a certain reaction.\n",
    "        \n",
    "        Author: Wenjie Chen \n",
    "        E-mail: wenjiechen@pku.edu.cn\n",
    "        \n",
    "        args:\n",
    "            molar_mass : [numpy.array] An array of molar_mass (the reaction product should be in the first place).\n",
    "            molar_ratio : [numpy.array] An array of molar_mass (should be the same order as molar_mass).\n",
    "            mass_needed : [double] The needed mass for the reaction product.\n",
    "            \n",
    "        returns:\n",
    "            masses_needed : [numpy.array] The calculated masses for the substances.\n",
    "            \n",
    "        example:\n",
    "            molar_mass = np.array([387.44, 105.99, 240.79, 159.60])\n",
    "            molar_ratio = np.array([3, 3, 2, 3])\n",
    "            print(reaction_substances_mass(molar_mass, molar_ratio, 27.0))\n",
    "    '''\n",
    "    masses = molar_mass * molar_ratio\n",
    "    masses_needed = mass_needed / masses[0] * masses\n",
    "    masses_needed = np.round(masses_needed, 4)\n",
    "    return masses_needed[1:]"
   ]
  },
  {
   "cell_type": "markdown",
   "metadata": {},
   "source": [
    "## play ground"
   ]
  },
  {
   "cell_type": "code",
   "execution_count": 27,
   "metadata": {},
   "outputs": [
    {
     "name": "stdout",
     "output_type": "stream",
     "text": [
      "[  6.8391  10.3582  10.2984]\n"
     ]
    }
   ],
   "source": [
    "molar_mass = np.array([387.44, 105.99, 240.79, 159.60])\n",
    "molar_ratio = np.array([3, 3, 2, 3])\n",
    "print(reaction_substances_mass(molar_mass, molar_ratio, 25))"
   ]
  },
  {
   "cell_type": "code",
   "execution_count": 3,
   "metadata": {},
   "outputs": [
    {
     "data": {
      "image/png": "[encoded data removed]",
      "text/plain": [
       "<matplotlib.figure.Figure at 0x1e594be89e8>"
      ]
     },
     "metadata": {},
     "output_type": "display_data"
    }
   ],
   "source": [
    "t_series = np.array([0, 180, 540, 90, 720, 360])\n",
    "T_series = np.array([20, 850, 850, 1200, 1200, 20])\n",
    "heating_curve(t_series, T_series, 'h')"
   ]
  },
  {
   "cell_type": "code",
   "execution_count": null,
   "metadata": {
    "collapsed": true
   },
   "outputs": [],
   "source": []
  }
 ],
 "metadata": {
  "kernelspec": {
   "display_name": "Python 3",
   "language": "python",
   "name": "python3"
  },
  "language_info": {
   "codemirror_mode": {
    "name": "ipython",
    "version": 3
   },
   "file_extension": ".py",
   "mimetype": "text/x-python",
   "name": "python",
   "nbconvert_exporter": "python",
   "pygments_lexer": "ipython3",
   "version": "3.6.3"
  }
 },
 "nbformat": 4,
 "nbformat_minor": 2
}
