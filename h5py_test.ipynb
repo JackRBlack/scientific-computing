{
 "cells": [
  {
   "cell_type": "markdown",
   "metadata": {},
   "source": [
    "# h5py test"
   ]
  },
  {
   "cell_type": "code",
   "execution_count": 1,
   "metadata": {},
   "outputs": [],
   "source": [
    "import h5py\n",
    "import numpy as np"
   ]
  },
  {
   "cell_type": "code",
   "execution_count": 20,
   "metadata": {},
   "outputs": [],
   "source": [
    "def descend_obj(obj,sep='\\t'):\n",
    "    \"\"\"\n",
    "    Iterate through groups in a HDF5 file and prints the groups and datasets names and datasets attributes\n",
    "    \"\"\"\n",
    "    if type(obj) in [h5py._hl.group.Group,h5py._hl.files.File]:\n",
    "        for key in obj.attrs.keys():\n",
    "            print(sep,'-',key,':',obj.attrs[key])\n",
    "        for key in obj.keys():\n",
    "            print(sep,'-',key,':',obj[key])\n",
    "            descend_obj(obj[key],sep=sep+'\\t')\n",
    "    elif type(obj)==h5py._hl.dataset.Dataset:\n",
    "        for key in obj.attrs.keys():\n",
    "            print(sep,'-',key,':',obj.attrs[key])\n",
    "\n",
    "def h5dump(path,group='/'):\n",
    "    \"\"\"\n",
    "    print HDF5 file metadata\n",
    "\n",
    "    group: you can give a specific group, defaults to the root group\n",
    "    \"\"\"\n",
    "    with h5py.File(path,'r') as f:\n",
    "         descend_obj(f[group])"
   ]
  },
  {
   "cell_type": "code",
   "execution_count": 16,
   "metadata": {},
   "outputs": [
    {
     "name": "stdout",
     "output_type": "stream",
     "text": [
      "\t - HKL : <HDF5 group \"/HKL\" (2 members)>\n",
      "\t\t - H : <HDF5 dataset \"H\": shape (21,), type \"<f8\">\n",
      "\t\t - K : <HDF5 dataset \"K\": shape (11,), type \"<f8\">\n"
     ]
    }
   ],
   "source": [
    "h5dump(\"mytestfile.hdf5\")"
   ]
  },
  {
   "cell_type": "code",
   "execution_count": 79,
   "metadata": {},
   "outputs": [
    {
     "name": "stdout",
     "output_type": "stream",
     "text": [
      "\t - HKL : <HDF5 group \"/HKL\" (2 members)>\n",
      "\t\t - H : <HDF5 dataset \"H\": shape (21,), type \"<f8\">\n",
      "\t\t - K : <HDF5 dataset \"K\": shape (11,), type \"<f8\">\n"
     ]
    }
   ],
   "source": [
    "with h5py.File(\"mytestfile.hdf5\",'a') as f:\n",
    "    descend_obj(f)"
   ]
  },
  {
   "cell_type": "code",
   "execution_count": 4,
   "metadata": {},
   "outputs": [],
   "source": [
    "H = np.linspace(-10, 10, 21)\n",
    "K = np.linspace(-5, 5, 11)\n",
    "I = np.zeros([len(H), len(K)])"
   ]
  },
  {
   "cell_type": "code",
   "execution_count": 81,
   "metadata": {},
   "outputs": [
    {
     "name": "stdout",
     "output_type": "stream",
     "text": [
      "\t - HKL : <HDF5 group \"/HKL\" (3 members)>\n",
      "\t\t - H : <HDF5 dataset \"H\": shape (21,), type \"<f8\">\n",
      "\t\t - I : <HDF5 dataset \"I\": shape (21, 11), type \"<f8\">\n",
      "\t\t - K : <HDF5 dataset \"K\": shape (11,), type \"<f8\">\n"
     ]
    }
   ],
   "source": [
    "with h5py.File(\"mytestfile2.hdf5\",'a') as f:\n",
    "    grp = f.create_group(\"HKL\")\n",
    "    dset_H = grp.create_dataset(\"H\", data=H)\n",
    "    dset_K = grp.create_dataset(\"K\", data=K)\n",
    "    dset_I = grp.create_dataset(\"I\", data=I)\n",
    "    descend_obj(f)"
   ]
  },
  {
   "cell_type": "code",
   "execution_count": 10,
   "metadata": {},
   "outputs": [],
   "source": [
    "with h5py.File(\"mytestfile2.hdf5\",'a') as f:\n",
    "    f['HKL'].attrs['T'] = 300.0\n",
    "    f['HKL/I'].attrs['test'] = 'intensity'"
   ]
  },
  {
   "cell_type": "code",
   "execution_count": 25,
   "metadata": {},
   "outputs": [
    {
     "name": "stdout",
     "output_type": "stream",
     "text": [
      "\t - info : test\n",
      "\t - HKL : <HDF5 group \"/HKL\" (3 members)>\n",
      "\t\t - T : 300.0\n",
      "\t\t - H : <HDF5 dataset \"H\": shape (21,), type \"<f8\">\n",
      "\t\t - I : <HDF5 dataset \"I\": shape (21, 11), type \"<f8\">\n",
      "\t\t\t - test : intensity\n",
      "\t\t - K : <HDF5 dataset \"K\": shape (11,), type \"<f8\">\n"
     ]
    }
   ],
   "source": [
    "h5dump(\"mytestfile2.hdf5\")"
   ]
  },
  {
   "cell_type": "code",
   "execution_count": 123,
   "metadata": {},
   "outputs": [],
   "source": [
    "f.close()"
   ]
  },
  {
   "cell_type": "code",
   "execution_count": 22,
   "metadata": {},
   "outputs": [],
   "source": [
    "f = h5py.File(\"mytestfile2.hdf5\",'a')"
   ]
  },
  {
   "cell_type": "code",
   "execution_count": 12,
   "metadata": {},
   "outputs": [
    {
     "data": {
      "text/plain": [
       "<KeysViewHDF5 ['T']>"
      ]
     },
     "execution_count": 12,
     "metadata": {},
     "output_type": "execute_result"
    }
   ],
   "source": [
    "f['HKL'].attrs.keys()"
   ]
  },
  {
   "cell_type": "code",
   "execution_count": 9,
   "metadata": {},
   "outputs": [
    {
     "data": {
      "text/plain": [
       "h5py._hl.files.File"
      ]
     },
     "execution_count": 9,
     "metadata": {},
     "output_type": "execute_result"
    }
   ],
   "source": [
    "type(f)"
   ]
  },
  {
   "cell_type": "code",
   "execution_count": 23,
   "metadata": {},
   "outputs": [],
   "source": [
    "f.attrs['info'] = 'test'"
   ]
  },
  {
   "cell_type": "code",
   "execution_count": null,
   "metadata": {},
   "outputs": [],
   "source": []
  }
 ],
 "metadata": {
  "kernelspec": {
   "display_name": "Python 3",
   "language": "python",
   "name": "python3"
  },
  "language_info": {
   "codemirror_mode": {
    "name": "ipython",
    "version": 3
   },
   "file_extension": ".py",
   "mimetype": "text/x-python",
   "name": "python",
   "nbconvert_exporter": "python",
   "pygments_lexer": "ipython3",
   "version": "3.7.3"
  }
 },
 "nbformat": 4,
 "nbformat_minor": 4
}
