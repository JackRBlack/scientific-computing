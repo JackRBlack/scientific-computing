{
 "cells": [
  {
   "cell_type": "code",
   "execution_count": 1,
   "metadata": {},
   "outputs": [],
   "source": [
    "import random\n",
    "import time\n",
    "import sys\n",
    "from multiprocessing import Pool"
   ]
  },
  {
   "cell_type": "code",
   "execution_count": 14,
   "metadata": {},
   "outputs": [],
   "source": [
    "random.seed()\n",
    "\n",
    "class summation:\n",
    "    def __init__(self):\n",
    "        self.tests = [0, 1, 2, 3]\n",
    "        \n",
    "    def genList (self, size):\n",
    "        randomList = []\n",
    "\n",
    "        #initialize random list with values between 0 and 100\n",
    "        for i in range(size):\n",
    "            randomList.append(random.randint(0,1))\n",
    "\n",
    "        return randomList\n",
    "    #return the sum of all elements in the list\n",
    "    #This is the same as \"return sum(inList)\" but in long form for readability and emphasis\n",
    "    def sumList(self, inList):\n",
    "        finalSum = 0\n",
    "\n",
    "        #iterate over all values in the list, and calculate the cummulative sum\n",
    "        for value in inList:\n",
    "            finalSum = finalSum + value\n",
    "        return finalSum\n",
    "    def doWork(self, arg):\n",
    "        (N, n) = arg\n",
    "        #create a random list of N integers\n",
    "        myList = self.genList (N)\n",
    "        finalSum = self.sumList(myList)\n",
    "        self.tests[n] = self.tests[n] + 6\n",
    "        print(self.tests[n])\n",
    "        return finalSum"
   ]
  },
  {
   "cell_type": "code",
   "execution_count": 15,
   "metadata": {},
   "outputs": [
    {
     "name": "stdout",
     "output_type": "stream",
     "text": [
      "7\n",
      "9\n",
      "6\n",
      "8\n",
      "The job took 0.05802488327026367 seconds to complete\n",
      "The final sum was: 57\n"
     ]
    }
   ],
   "source": [
    "N = 100\n",
    "\n",
    "\n",
    "test = summation()\n",
    "\n",
    "#mark the start time\n",
    "startTime = time.time()\n",
    "\n",
    "#create a process Pool with 4 processes\n",
    "pool = Pool(processes=4)\n",
    "\n",
    "#args = (int(N/4),int(N/4),int(N/4),int(N/4))\n",
    "\n",
    "args = ((int(N/4), 0),(int(N/4), 1),(int(N/4), 2),(int(N/4), 3))\n",
    "\n",
    "#map doWork to availble Pool processes\n",
    "results = pool.map(test.doWork, args)\n",
    "\n",
    "#sum the partial results to get the final result\n",
    "finalSum = test.sumList(results)\n",
    "                 \n",
    "#mark the end time\n",
    "endTime = time.time()\n",
    "#calculate the total time it took to complete the work\n",
    "workTime =  endTime - startTime\n",
    "\n",
    "#print results\n",
    "print(\"The job took \" + str(workTime) + \" seconds to complete\")\n",
    "print(\"The final sum was: \" + str(finalSum))"
   ]
  },
  {
   "cell_type": "code",
   "execution_count": 11,
   "metadata": {},
   "outputs": [
    {
     "data": {
      "text/plain": [
       "[0, 0, 0, 0]"
      ]
     },
     "execution_count": 11,
     "metadata": {},
     "output_type": "execute_result"
    }
   ],
   "source": [
    "test.tests"
   ]
  },
  {
   "cell_type": "code",
   "execution_count": null,
   "metadata": {},
   "outputs": [],
   "source": []
  }
 ],
 "metadata": {
  "kernelspec": {
   "display_name": "Python 3",
   "language": "python",
   "name": "python3"
  },
  "language_info": {
   "codemirror_mode": {
    "name": "ipython",
    "version": 3
   },
   "file_extension": ".py",
   "mimetype": "text/x-python",
   "name": "python",
   "nbconvert_exporter": "python",
   "pygments_lexer": "ipython3",
   "version": "3.7.1"
  }
 },
 "nbformat": 4,
 "nbformat_minor": 2
}
