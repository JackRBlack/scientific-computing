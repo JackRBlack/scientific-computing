{
 "cells": [
  {
   "cell_type": "code",
   "execution_count": 2,
   "metadata": {},
   "outputs": [],
   "source": [
    "import numpy as np\n",
    "from scipy import linalg"
   ]
  },
  {
   "cell_type": "code",
   "execution_count": 27,
   "metadata": {
    "collapsed": true
   },
   "outputs": [],
   "source": [
    "def commutator(A, B):\n",
    "    return np.dot(A, B) - np.dot(B, A)\n",
    "\n",
    "def anticommutator(A, B):\n",
    "    return np.dot(A, B) + np.dot(B, A)"
   ]
  },
  {
   "cell_type": "code",
   "execution_count": 36,
   "metadata": {},
   "outputs": [
    {
     "name": "stdout",
     "output_type": "stream",
     "text": [
      "[[ 0  0  0]\n",
      " [ 0  0 -2]\n",
      " [ 0  2  0]]\n",
      "[[ 0  0 -2]\n",
      " [ 0  0  0]\n",
      " [ 2  0  0]]\n",
      "[[ 0  2  0]\n",
      " [-2  0  0]\n",
      " [ 0  0  0]]\n"
     ]
    }
   ],
   "source": [
    "Sx = np.array([[ 0,  0,  1],\n",
    "               [ 0,  0,  0],\n",
    "               [-1,  0,  0]])\n",
    "\n",
    "Sy = np.array([[ 0, -1,  0],\n",
    "               [ 1,  0,  0],\n",
    "               [ 0,  0,  0]])\n",
    "\n",
    "Sz = np.array([[ 0,  0,  0],\n",
    "               [ 0,  0,  1],\n",
    "               [ 0, -1,  0]])\n",
    "\n",
    "print(commutator(Sx, Sy) - Sz)\n",
    "print(commutator(Sy, Sz) - Sx)\n",
    "print(commutator(Sz, Sx) - Sy)"
   ]
  },
  {
   "cell_type": "code",
   "execution_count": 35,
   "metadata": {},
   "outputs": [
    {
     "name": "stdout",
     "output_type": "stream",
     "text": [
      "[[0 0 0]\n",
      " [0 0 0]\n",
      " [0 0 0]]\n",
      "[[0 0 0]\n",
      " [0 0 0]\n",
      " [0 0 0]]\n",
      "[[0 0 0]\n",
      " [0 0 0]\n",
      " [0 0 0]]\n"
     ]
    }
   ],
   "source": [
    "Sx = np.array([[ 0, -1,  0],\n",
    "               [ 1,  0,  0],\n",
    "               [ 0,  0,  0]])\n",
    "\n",
    "Sy = np.array([[ 0,  0, -1],\n",
    "               [ 0,  0,  0],\n",
    "               [ 1,  0,  0]])\n",
    "\n",
    "Sz = np.array([[ 0,  0,  0],\n",
    "               [ 0,  0, -1],\n",
    "               [ 0,  1,  0]])\n",
    "\n",
    "print(commutator(Sx, Sy) - Sz)\n",
    "print(commutator(Sy, Sz) - Sx)\n",
    "print(commutator(Sz, Sx) - Sy)"
   ]
  },
  {
   "cell_type": "code",
   "execution_count": 6,
   "metadata": {},
   "outputs": [],
   "source": [
    "M = np.array([[ 1,  1],\n",
    "              [ 0,  1]])"
   ]
  },
  {
   "cell_type": "code",
   "execution_count": 7,
   "metadata": {},
   "outputs": [],
   "source": [
    "(eigvals, eigvecs) = linalg.eig(M)\n",
    "eigvecs = np.transpose(eigvecs)"
   ]
  },
  {
   "cell_type": "code",
   "execution_count": 8,
   "metadata": {},
   "outputs": [
    {
     "name": "stdout",
     "output_type": "stream",
     "text": [
      "[1.+0.j 1.+0.j]\n",
      "[1. 0.]\n",
      "[-1.00000000e+00  2.22044605e-16]\n"
     ]
    }
   ],
   "source": [
    "print(eigvals)\n",
    "for eigvec in eigvecs:\n",
    "    print(eigvec)"
   ]
  },
  {
   "cell_type": "code",
   "execution_count": 51,
   "metadata": {
    "collapsed": true
   },
   "outputs": [],
   "source": [
    "U = np.array([[                            1,                             1],\n",
    "              [(np.sqrt(2) + np.sqrt(6)) / 2, (np.sqrt(2) - np.sqrt(6)) / 2]]) "
   ]
  },
  {
   "cell_type": "code",
   "execution_count": 47,
   "metadata": {},
   "outputs": [
    {
     "data": {
      "text/plain": [
       "array([[  8.19615242e+00,   6.66133815e-16],\n",
       "       [  4.44089210e-16,  -2.19615242e+00]])"
      ]
     },
     "execution_count": 47,
     "metadata": {},
     "output_type": "execute_result"
    }
   ],
   "source": [
    "np.dot(np.dot(np.transpose(U), M), U)"
   ]
  },
  {
   "cell_type": "code",
   "execution_count": 48,
   "metadata": {},
   "outputs": [
    {
     "data": {
      "text/plain": [
       "array([[ 2.82842712, -0.44948974],\n",
       "       [-0.44948974, -6.29252874]])"
      ]
     },
     "execution_count": 48,
     "metadata": {},
     "output_type": "execute_result"
    }
   ],
   "source": [
    "np.dot(np.dot(U, M), np.transpose(U))"
   ]
  },
  {
   "cell_type": "code",
   "execution_count": 56,
   "metadata": {},
   "outputs": [
    {
     "data": {
      "text/plain": [
       "array([[  4.73205081e+00,   4.44089210e-16],\n",
       "       [  4.44089210e-16,   1.26794919e+00]])"
      ]
     },
     "execution_count": 56,
     "metadata": {},
     "output_type": "execute_result"
    }
   ],
   "source": [
    "np.dot(np.transpose(U), U)"
   ]
  },
  {
   "cell_type": "code",
   "execution_count": 61,
   "metadata": {
    "collapsed": true
   },
   "outputs": [],
   "source": [
    "W = np.array([[                            1 / np.sqrt(3 + np.sqrt(3)),                             1 / np.sqrt(3 - np.sqrt(3))],\n",
    "              [(np.sqrt(2) + np.sqrt(6)) / (2*np.sqrt(3 + np.sqrt(3))), (np.sqrt(2) - np.sqrt(6)) / (2*np.sqrt(3 - np.sqrt(3)))]])"
   ]
  },
  {
   "cell_type": "code",
   "execution_count": 63,
   "metadata": {},
   "outputs": [
    {
     "data": {
      "text/plain": [
       "array([[  1.00000000e+00,   2.22044605e-16],\n",
       "       [  2.22044605e-16,   1.00000000e+00]])"
      ]
     },
     "execution_count": 63,
     "metadata": {},
     "output_type": "execute_result"
    }
   ],
   "source": [
    "np.dot(W, np.transpose(W))"
   ]
  },
  {
   "cell_type": "code",
   "execution_count": 65,
   "metadata": {},
   "outputs": [
    {
     "data": {
      "text/plain": [
       "array([[  1.73205081e+00,   3.33066907e-16],\n",
       "       [  3.33066907e-16,  -1.73205081e+00]])"
      ]
     },
     "execution_count": 65,
     "metadata": {},
     "output_type": "execute_result"
    }
   ],
   "source": [
    "np.dot(np.dot(W, M), np.transpose(W))"
   ]
  },
  {
   "cell_type": "code",
   "execution_count": 66,
   "metadata": {
    "collapsed": true
   },
   "outputs": [],
   "source": [
    "D = np.array([[ np.sqrt(3),          0],\n",
    "              [         0, -np.sqrt(3)]])"
   ]
  },
  {
   "cell_type": "code",
   "execution_count": 67,
   "metadata": {},
   "outputs": [
    {
     "data": {
      "text/plain": [
       "array([[-1.        ,  1.41421356],\n",
       "       [ 1.41421356,  1.        ]])"
      ]
     },
     "execution_count": 67,
     "metadata": {},
     "output_type": "execute_result"
    }
   ],
   "source": [
    "np.dot(np.dot(W, D), np.transpose(W))"
   ]
  },
  {
   "cell_type": "code",
   "execution_count": 68,
   "metadata": {},
   "outputs": [
    {
     "data": {
      "text/plain": [
       "array([[-1.        ,  1.41421356],\n",
       "       [ 1.41421356,  1.        ]])"
      ]
     },
     "execution_count": 68,
     "metadata": {},
     "output_type": "execute_result"
    }
   ],
   "source": [
    "np.dot(np.dot(np.transpose(W), D), W)"
   ]
  },
  {
   "cell_type": "code",
   "execution_count": 2,
   "metadata": {
    "collapsed": true
   },
   "outputs": [],
   "source": [
    "t = np.sqrt(2)"
   ]
  },
  {
   "cell_type": "code",
   "execution_count": 5,
   "metadata": {
    "collapsed": true
   },
   "outputs": [],
   "source": [
    "U = np.array([[ 0.5,  0.5,  1/t,    0],\n",
    "              [ 0.5, -0.5,    0,  1/t],\n",
    "              [ 0.5,  0.5, -1/t,    0],\n",
    "              [ 0.5, -0.5,    0, -1/t]])"
   ]
  },
  {
   "cell_type": "code",
   "execution_count": 6,
   "metadata": {},
   "outputs": [
    {
     "name": "stdout",
     "output_type": "stream",
     "text": [
      "[[ 0.5         0.5         0.5         0.5       ]\n",
      " [ 0.5        -0.5         0.5        -0.5       ]\n",
      " [ 0.70710678  0.         -0.70710678 -0.        ]\n",
      " [ 0.          0.70710678  0.         -0.70710678]]\n"
     ]
    }
   ],
   "source": [
    "U_I = linalg.inv(U)\n",
    "print(U_I)"
   ]
  },
  {
   "cell_type": "code",
   "execution_count": null,
   "metadata": {
    "collapsed": true
   },
   "outputs": [],
   "source": []
  }
 ],
 "metadata": {
  "kernelspec": {
   "display_name": "Python 3",
   "language": "python",
   "name": "python3"
  },
  "language_info": {
   "codemirror_mode": {
    "name": "ipython",
    "version": 3
   },
   "file_extension": ".py",
   "mimetype": "text/x-python",
   "name": "python",
   "nbconvert_exporter": "python",
   "pygments_lexer": "ipython3",
   "version": "3.7.1"
  }
 },
 "nbformat": 4,
 "nbformat_minor": 2
}
