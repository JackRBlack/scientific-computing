{
 "cells": [
  {
   "cell_type": "code",
   "execution_count": 1,
   "metadata": {},
   "outputs": [],
   "source": [
    "from __future__ import print_function\n",
    "from ipywidgets import interact, interactive, fixed, interact_manual\n",
    "import ipywidgets as widgets"
   ]
  },
  {
   "cell_type": "code",
   "execution_count": 2,
   "metadata": {},
   "outputs": [],
   "source": [
    "def f(x):\n",
    "    return x"
   ]
  },
  {
   "cell_type": "code",
   "execution_count": 3,
   "metadata": {},
   "outputs": [
    {
     "data": {
      "application/vnd.jupyter.widget-view+json": {
       "model_id": "a766223a01ec48caaffcd89e07422385",
       "version_major": 2,
       "version_minor": 0
      },
      "text/plain": [
       "interactive(children=(Text(value='', description='x'), Output()), _dom_classes=('widget-interact',))"
      ]
     },
     "metadata": {},
     "output_type": "display_data"
    }
   ],
   "source": [
    "interact(f, x='');"
   ]
  },
  {
   "cell_type": "code",
   "execution_count": 4,
   "metadata": {},
   "outputs": [
    {
     "data": {
      "application/vnd.jupyter.widget-view+json": {
       "model_id": "3297cbe4fe984f888f3fab216ad9bde3",
       "version_major": 2,
       "version_minor": 0
      },
      "text/plain": [
       "interactive(children=(FloatSlider(value=0.0, description='m', max=2.0, min=-2.0), Output()), _dom_classes=('wi…"
      ]
     },
     "metadata": {},
     "output_type": "display_data"
    }
   ],
   "source": [
    "%matplotlib inline\n",
    "from ipywidgets import interactive\n",
    "import matplotlib.pyplot as plt\n",
    "import numpy as np\n",
    "\n",
    "def f(m):\n",
    "    plt.figure()\n",
    "    x = np.linspace(0.1, 10, num=100)\n",
    "    plt.plot(x, x**m)\n",
    "    plt.ylim(-5, 5)\n",
    "    plt.show()\n",
    "\n",
    "interactive_plot = interactive(f, m=(-2.0, 2.0))\n",
    "#output = interactive_plot.children[-1]\n",
    "#output.layout.height = '350px'\n",
    "interactive_plot"
   ]
  },
  {
   "cell_type": "code",
   "execution_count": 5,
   "metadata": {},
   "outputs": [
    {
     "data": {
      "application/vnd.jupyter.widget-view+json": {
       "model_id": "cee05d3e39d740078a82c02f8472ac04",
       "version_major": 2,
       "version_minor": 0
      },
      "text/plain": [
       "interactive(children=(FloatSlider(value=0.046, description='T', max=0.1, min=0.001, step=0.005), Output()), _d…"
      ]
     },
     "metadata": {},
     "output_type": "display_data"
    }
   ],
   "source": [
    "def FD(T):\n",
    "    plt.figure(figsize=(10,5))\n",
    "    E = np.linspace(0, 2, 200)\n",
    "    plt.plot(E, 1 / (np.exp((E - 1)/T) + 1))\n",
    "    plt.xlim(0, 2)\n",
    "    plt.ylim(0, 1.2)\n",
    "    plt.xlabel('$E$ / $E_F$')\n",
    "    plt.ylabel('$N$')\n",
    "    plt.show()\n",
    "\n",
    "interactive_plot = interactive(FD, T=(0.001, 0.1, 0.005))\n",
    "interactive_plot\n",
    "\n",
    "# T in Fermi temperature.\n",
    "# E in Fermi energy."
   ]
  },
  {
   "cell_type": "code",
   "execution_count": 38,
   "metadata": {},
   "outputs": [
    {
     "data": {
      "application/vnd.jupyter.widget-view+json": {
       "model_id": "d6cc0f886f344e3d9aa8be005e069af8",
       "version_major": 2,
       "version_minor": 0
      },
      "text/plain": [
       "interactive(children=(FloatSlider(value=0.452, description='T', max=1.0, min=0.002, step=0.05), Output()), _do…"
      ]
     },
     "metadata": {},
     "output_type": "display_data"
    }
   ],
   "source": [
    "def BE(T):\n",
    "    plt.figure(figsize=(10,5))\n",
    "    E = np.linspace(1.001, 2, 200)\n",
    "    plt.plot(E, 1 / (np.exp((E - 1)/T) - 1))\n",
    "    plt.xlim(0, 2)\n",
    "    plt.ylim(0, 10)\n",
    "    plt.xlabel('$E$ / $\\mu$')\n",
    "    plt.ylabel('$N$')\n",
    "    plt.show()\n",
    "\n",
    "interactive_plot = interactive(BE, T=(0.002, 1, 0.05))\n",
    "interactive_plot\n",
    "\n",
    "# T in Fermi temperature.\n",
    "# E in Fermi energy."
   ]
  },
  {
   "cell_type": "code",
   "execution_count": null,
   "metadata": {},
   "outputs": [],
   "source": []
  }
 ],
 "metadata": {
  "kernelspec": {
   "display_name": "Python 3",
   "language": "python",
   "name": "python3"
  },
  "language_info": {
   "codemirror_mode": {
    "name": "ipython",
    "version": 3
   },
   "file_extension": ".py",
   "mimetype": "text/x-python",
   "name": "python",
   "nbconvert_exporter": "python",
   "pygments_lexer": "ipython3",
   "version": "3.7.1"
  }
 },
 "nbformat": 4,
 "nbformat_minor": 2
}
