{
 "cells": [
  {
   "cell_type": "code",
   "execution_count": 1,
   "metadata": {
    "collapsed": true
   },
   "outputs": [],
   "source": [
    "import numpy as np"
   ]
  },
  {
   "cell_type": "code",
   "execution_count": 89,
   "metadata": {},
   "outputs": [],
   "source": [
    "def combinations(n, k, combs):\n",
    "    '''\n",
    "        Give all possible combinations of k elements out of n elements.\n",
    "        \n",
    "        Author: Wenjie Chen \n",
    "        E-mail: wenjiechen@pku.edu.cn\n",
    "        \n",
    "        args:\n",
    "            n : [int] Total number of elements.\n",
    "            k : [int] Selected number of elements\n",
    "            \n",
    "        returns:\n",
    "            combs : [list] A list of all possible combinations.\n",
    "            \n",
    "        example:\n",
    "            combs = []\n",
    "            combinations(3, 2, combs)\n",
    "    '''\n",
    "    if k == 0:\n",
    "        comb = []\n",
    "        for i in range(n):\n",
    "            comb.append(0)\n",
    "        combs.append(comb)\n",
    "        return\n",
    "    \n",
    "    if k == n:\n",
    "        comb = []\n",
    "        for i in range(n):\n",
    "            comb.append(1)\n",
    "        combs.append(comb)\n",
    "        return\n",
    "\n",
    "    for i in range(n - k + 1):\n",
    "        combs_temp = []\n",
    "        combinations(n - i - 1, k - 1, combs_temp)\n",
    "        suffix = [1]\n",
    "        for zeros in range(i):\n",
    "            suffix.append(0)\n",
    "        no = 0\n",
    "        for item in combs_temp:\n",
    "            combs_temp[no] = combs_temp[no] + suffix\n",
    "            combs.append(combs_temp[no])\n",
    "            no = no + 1\n",
    "    return"
   ]
  },
  {
   "cell_type": "code",
   "execution_count": 105,
   "metadata": {
    "collapsed": true
   },
   "outputs": [],
   "source": [
    "def creation(n):\n",
    "    '''\n",
    "        Give the results that a creation operator acts on the n-th eigenstate.\n",
    "        c^dagger |n> = sqrt(n+1) |n+1>\n",
    "        \n",
    "        Author: Wenjie Chen \n",
    "        E-mail: wenjiechen@pku.edu.cn\n",
    "        \n",
    "        args:\n",
    "            n : [int] The n-th eigenstate.\n",
    "            \n",
    "        returns:\n",
    "            value : [double] sqrt(n+1).\n",
    "            state : [int] n+1.\n",
    "            \n",
    "        example:\n",
    "            [value, state] = creation(5)\n",
    "    '''\n",
    "    return [np.sqrt(n + 1), n + 1]\n",
    "\n",
    "def annihilation(n):\n",
    "    '''\n",
    "        Give the results that a creation operator acts on the n-th eigenstate.\n",
    "        c |n> = sqrt(n) |n-1>\n",
    "        |0> = |vac>\n",
    "        \n",
    "        Author: Wenjie Chen \n",
    "        E-mail: wenjiechen@pku.edu.cn\n",
    "        \n",
    "        args:\n",
    "            n : [int] The n-th eigenstate.\n",
    "            \n",
    "        returns:\n",
    "            value : [double] sqrt(n).\n",
    "            state : [int] n-1.\n",
    "            \n",
    "        example:\n",
    "            [value, state] = annihilation(5)\n",
    "    '''\n",
    "    if n == 0:\n",
    "        return [0, -1]\n",
    "    return [np.sqrt(n), n - 1]"
   ]
  },
  {
   "cell_type": "code",
   "execution_count": 127,
   "metadata": {
    "collapsed": true
   },
   "outputs": [],
   "source": [
    "def expectation_value(operator_stack, n):\n",
    "    '''\n",
    "        Calculate the expectation value of an operater stack with respect to the n-th eigenstate.\n",
    "        \n",
    "        Author: Wenjie Chen \n",
    "        E-mail: wenjiechen@pku.edu.cn\n",
    "        \n",
    "        args:\n",
    "            operator_stack : [list] A stack of creation (1) and annihilation (0) operators. \n",
    "                                    Note that the first operator in stack acts on the eigenstate first.\n",
    "            n : [int] The n-th eigenstate.\n",
    "            \n",
    "        returns:\n",
    "            exp_value : [double] The expectation value.\n",
    "            \n",
    "        example:\n",
    "            operator = [1, 1, 0, 0]\n",
    "            exp_value = expectation_value(operator, 5)\n",
    "    '''\n",
    "    state = n\n",
    "    exp_value = 1\n",
    "    for operator in operator_stack:\n",
    "        if operator == 1:\n",
    "            [value, state] = creation(state)\n",
    "        elif operator == 0:\n",
    "            [value, state] = annihilation(state)\n",
    "        exp_value = exp_value * value\n",
    "        if exp_value == 0:\n",
    "            return exp_value\n",
    "    if state != n:\n",
    "        exp_value = 0\n",
    "    return exp_value"
   ]
  },
  {
   "cell_type": "code",
   "execution_count": 137,
   "metadata": {},
   "outputs": [],
   "source": [
    "def perturbation_exp_value(order, eigenstate):\n",
    "    '''\n",
    "    '''\n",
    "    exp_value = 0\n",
    "    combs = []\n",
    "    combinations(order, int(order/2), combs)\n",
    "    for comb in combs:\n",
    "        exp_value = exp_value + expectation_value(comb, eigenstate)\n",
    "    return exp_value"
   ]
  },
  {
   "cell_type": "code",
   "execution_count": 147,
   "metadata": {},
   "outputs": [
    {
     "data": {
      "text/plain": [
       "375.0"
      ]
     },
     "execution_count": 147,
     "metadata": {},
     "output_type": "execute_result"
    }
   ],
   "source": [
    "perturbation_exp_value(6, 2)"
   ]
  },
  {
   "cell_type": "code",
   "execution_count": 144,
   "metadata": {},
   "outputs": [],
   "source": [
    "n = list(range(3, 10))\n",
    "ev = []\n",
    "for i in n:\n",
    "    ev.append(perturbation_exp_value(6, i))"
   ]
  },
  {
   "cell_type": "code",
   "execution_count": 149,
   "metadata": {},
   "outputs": [
    {
     "data": {
      "text/plain": [
       "array([ 20.,  30.,  40.,  15.])"
      ]
     },
     "execution_count": 149,
     "metadata": {},
     "output_type": "execute_result"
    }
   ],
   "source": [
    "np.polyfit(n, ev, 3)"
   ]
  },
  {
   "cell_type": "code",
   "execution_count": null,
   "metadata": {
    "collapsed": true
   },
   "outputs": [],
   "source": []
  }
 ],
 "metadata": {
  "kernelspec": {
   "display_name": "Python 3",
   "language": "python",
   "name": "python3"
  },
  "language_info": {
   "codemirror_mode": {
    "name": "ipython",
    "version": 3
   },
   "file_extension": ".py",
   "mimetype": "text/x-python",
   "name": "python",
   "nbconvert_exporter": "python",
   "pygments_lexer": "ipython3",
   "version": "3.6.3"
  }
 },
 "nbformat": 4,
 "nbformat_minor": 2
}
