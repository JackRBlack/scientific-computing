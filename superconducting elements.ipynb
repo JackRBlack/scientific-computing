{
 "cells": [
  {
   "cell_type": "code",
   "execution_count": 6,
   "metadata": {},
   "outputs": [],
   "source": [
    "import numpy as np\n",
    "import matplotlib.pyplot as plt\n",
    "import csv"
   ]
  },
  {
   "cell_type": "code",
   "execution_count": 48,
   "metadata": {},
   "outputs": [
    {
     "name": "stdout",
     "output_type": "stream",
     "text": [
      "Column names are No., element, resistivity, T_c, , , \n",
      "Processed 31 lines.\n"
     ]
    }
   ],
   "source": [
    "# Read data\n",
    "datablock = []\n",
    "with open('elements_properties.csv', newline='') as csvfile:\n",
    "    spamreader = csv.reader(csvfile, delimiter=',', quotechar='|')\n",
    "    line_num = 0\n",
    "    for row in spamreader:\n",
    "        if line_num == 0:\n",
    "            print(f'Column names are {\", \".join(row)}')\n",
    "        else:\n",
    "            datablock.append(row)\n",
    "        line_num = line_num + 1\n",
    "    print(f'Processed {line_num} lines.')"
   ]
  },
  {
   "cell_type": "code",
   "execution_count": 49,
   "metadata": {},
   "outputs": [],
   "source": [
    "# Process data\n",
    "datablock = np.transpose(np.array(datablock))\n",
    "(No, NAME, rho, T_c) = (datablock[0].astype(int), datablock[1].astype(str), datablock[2].astype(float), datablock[3].astype(float))"
   ]
  },
  {
   "cell_type": "code",
   "execution_count": 92,
   "metadata": {},
   "outputs": [
    {
     "data": {
      "image/png": "[encoded data removed]",
      "text/plain": [
       "<Figure size 576x288 with 1 Axes>"
      ]
     },
     "metadata": {
      "needs_background": "light"
     },
     "output_type": "display_data"
    }
   ],
   "source": [
    "# Plot the figure\n",
    "plt.figure(figsize=(8,4))\n",
    "plt.plot(T_c, rho, 'co')\n",
    "plt.xlabel(\"$T_c$ / K\")\n",
    "plt.ylabel(\"resistivity / $\\Omega \\cdot$m\")\n",
    "plt.ticklabel_format(style='sci', axis='y', scilimits=(0,0))\n",
    "plt.text(T_c[28]+0.15, rho[28]-2e-8, NAME[28] + ',(N = 93)', fontsize=12)\n",
    "#plt.text(T_c[29]+0.15, rho[29], NAME[29] + ',(N = 95)', fontsize=12)\n",
    "plt.grid()\n",
    "plt.savefig(\"resistivity-T_c.eps\", dpi = 300, format = 'eps')\n",
    "plt.show()"
   ]
  },
  {
   "cell_type": "code",
   "execution_count": null,
   "metadata": {},
   "outputs": [],
   "source": []
  }
 ],
 "metadata": {
  "kernelspec": {
   "display_name": "Python 3",
   "language": "python",
   "name": "python3"
  },
  "language_info": {
   "codemirror_mode": {
    "name": "ipython",
    "version": 3
   },
   "file_extension": ".py",
   "mimetype": "text/x-python",
   "name": "python",
   "nbconvert_exporter": "python",
   "pygments_lexer": "ipython3",
   "version": "3.7.1"
  }
 },
 "nbformat": 4,
 "nbformat_minor": 2
}
